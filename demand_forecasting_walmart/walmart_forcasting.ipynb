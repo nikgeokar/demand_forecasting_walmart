{
 "cells": [
  {
   "cell_type": "markdown",
   "id": "e05a5869",
   "metadata": {},
   "source": [
    "# Demand Forecasting on Walmart Dataset"
   ]
  },
  {
   "cell_type": "markdown",
   "id": "03454162",
   "metadata": {},
   "source": [
    "## Neccesary Libraries"
   ]
  },
  {
   "cell_type": "code",
   "execution_count": 1,
   "id": "d3fe7959",
   "metadata": {},
   "outputs": [],
   "source": [
    "import pandas as pd\n",
    "import matplotlib.pyplot as plt\n",
    "from sklearn.preprocessing import StandardScaler\n",
    "from scipy import stats\n",
    "import numpy as np\n",
    "import seaborn as sns\n",
    "import pickle\n",
    "import math\n",
    "from sklearn.svm import SVR\n",
    "from sklearn.tree import DecisionTreeRegressor\n",
    "from xgboost import XGBRegressor\n",
    "from sklearn.metrics import mean_absolute_error, mean_absolute_percentage_error\n",
    "import random\n",
    "import itertools"
   ]
  },
  {
   "cell_type": "markdown",
   "id": "f1488c6c",
   "metadata": {},
   "source": [
    "## Data Preprocessing Functions"
   ]
  },
  {
   "cell_type": "code",
   "execution_count": 2,
   "id": "a9419652",
   "metadata": {},
   "outputs": [],
   "source": [
    "def create_moving_averages(df_list):\n",
    "    new_df =[]\n",
    "    for i in range (0,len(df_list)):\n",
    "        # Create a copy of the dataframe to avoid modifying the original\n",
    "        df = df_list[i].copy()\n",
    "        # Sort the dataframe by date\n",
    "        df = df.sort_values('Date')\n",
    "        # Create a new column for the moving averages\n",
    "        df['1mRos'] = df['Weekly_Sales'].rolling(4, min_periods=1).mean()\n",
    "        df['2mRos'] = df['Weekly_Sales'].rolling(12, min_periods=1).mean()\n",
    "        df['3mRos'] = df['Weekly_Sales'].rolling(1, min_periods=1).mean()\n",
    "        # If we have missing weeks, fill with median value\n",
    "        df['1mRos'].fillna(df['Weekly_Sales'].median(), inplace=True)\n",
    "        df['2mRos'].fillna(df['Weekly_Sales'].median(), inplace=True)\n",
    "        df['3mRos'].fillna(df['Weekly_Sales'].median(), inplace=True)\n",
    "        new_df.append(df)\n",
    "    return new_df"
   ]
  },
  {
   "cell_type": "code",
   "execution_count": 3,
   "id": "3428393b",
   "metadata": {},
   "outputs": [],
   "source": [
    "def create_trigonometric_columns(df_list):\n",
    "    new_df = []\n",
    "    for i in range (0,len(df_list)):\n",
    "    # Create a copy of the dataframe to avoid modifying the original\n",
    "        df = df_list[i].copy()\n",
    "        # Create sine and cosine columns for Year, Month and Day\n",
    "        df['Year_sin'] = df['Year'].apply(lambda x: math.sin(2*math.pi*x/2023))\n",
    "        df['Year_cos'] = df['Year'].apply(lambda x: math.cos(2*math.pi*x/2023))\n",
    "        df['Month_sin'] = df['Month'].apply(lambda x: math.sin(2*math.pi*x/12))\n",
    "        df['Month_cos'] = df['Month'].apply(lambda x: math.cos(2*math.pi*x/12))\n",
    "        df['Day_sin'] = df['Day'].apply(lambda x: math.sin(2*math.pi*x/31))\n",
    "        df['Day_cos'] = df['Day'].apply(lambda x: math.cos(2*math.pi*x/31))\n",
    "        df['Week_of_Year_sin'] = df['Week_of_Year'].apply(lambda x: math.cos(2*math.pi*x/56))\n",
    "        df['Week_of_Year_cos'] = df['Week_of_Year'].apply(lambda x: math.cos(2*math.pi*x/56))\n",
    "        new_df.append(df)\n",
    "    return new_df"
   ]
  },
  {
   "cell_type": "code",
   "execution_count": 4,
   "id": "ed017d8e",
   "metadata": {},
   "outputs": [],
   "source": [
    "def delete_useless_cols(df_list,promo):\n",
    "    for i in range (0,len(df_list)):\n",
    "        df_list[i] = df_list[i].drop(['Store'], axis=1)\n",
    "        df_list[i] = df_list[i].drop(['Dept'], axis=1)\n",
    "        df_list[i] = df_list[i].drop(['Type'], axis=1)\n",
    "        df_list[i] = df_list[i].drop(['Size'], axis=1)\n",
    "        df_list[i] = df_list[i].drop(['Day'], axis=1)\n",
    "        df_list[i] = df_list[i].drop(['Month'], axis=1)\n",
    "        df_list[i] = df_list[i].drop(['Week_of_Year'], axis=1)\n",
    "        if promo == 'No_Promo':\n",
    "            df_list[i] = df_list[i].drop(['MarkDown1'], axis=1)\n",
    "            df_list[i] = df_list[i].drop(['MarkDown2'], axis=1)\n",
    "            df_list[i] = df_list[i].drop(['MarkDown3'], axis=1)\n",
    "            df_list[i] = df_list[i].drop(['MarkDown4'], axis=1)\n",
    "            df_list[i] = df_list[i].drop(['MarkDown5'], axis=1)\n",
    "    return df_list"
   ]
  },
  {
   "cell_type": "markdown",
   "id": "98c837b7",
   "metadata": {},
   "source": [
    "## Data Split Functions"
   ]
  },
  {
   "cell_type": "code",
   "execution_count": 5,
   "id": "0f730f96",
   "metadata": {},
   "outputs": [],
   "source": [
    "def train_val_split(df_list):\n",
    "    train_dataframes = []\n",
    "    val_dataframes = []\n",
    "    for df in df_list:\n",
    "        # Extract the year from the date column     \n",
    "        # Split the dataframe into train, validation, and test sets\n",
    "        train_df = df[df['Year'] == 2010]\n",
    "        val_df = df[df['Year'] == 2011]  \n",
    "        train_df = train_df.drop(['Year'], axis=1)\n",
    "        val_df = val_df.drop(['Year'], axis=1)\n",
    "        train_dataframes.append(train_df)\n",
    "        val_dataframes.append(val_df)\n",
    "    return train_dataframes,val_dataframes,           "
   ]
  },
  {
   "cell_type": "code",
   "execution_count": 6,
   "id": "52ea12e1",
   "metadata": {},
   "outputs": [],
   "source": [
    "def train_test_split(df_list):\n",
    "    train_dataframes = []\n",
    "    test_dataframes = []\n",
    "    for df in df_list:\n",
    "        # Extract the year from the date column    \n",
    "        # Split the dataframe into train, validation, and test sets\n",
    "        train_df = df[df['Year'] < 2012]\n",
    "        test_df = df[df['Year'] == 2012]\n",
    "        train_df = train_df.drop(['Year'], axis=1)\n",
    "        test_df = test_df.drop(['Year'], axis=1)\n",
    "        train_dataframes.append(train_df)\n",
    "        test_dataframes.append(test_df)\n",
    "    return train_dataframes,test_dataframes           "
   ]
  },
  {
   "cell_type": "code",
   "execution_count": 7,
   "id": "0a98f0d5",
   "metadata": {},
   "outputs": [],
   "source": [
    "def splits_X_y(train_list,test_list):\n",
    "    x_train,y_train,x_test,y_test = [],[],[],[]\n",
    "    for i in range (0,len(train_list)):\n",
    "        x_train.append(train_list[i].drop(['Date','Next week'], axis=1))\n",
    "        y_train.append(train_list[i]['Next week'])\n",
    "        x_test.append(test_list[i].drop(['Date','Next week'], axis=1))\n",
    "        y_test.append(test_list[i]['Next week'])\n",
    "    return x_train,y_train,x_test,y_test"
   ]
  },
  {
   "cell_type": "markdown",
   "id": "c448424f",
   "metadata": {},
   "source": [
    "## Scalling Process"
   ]
  },
  {
   "cell_type": "code",
   "execution_count": 8,
   "id": "f747a990",
   "metadata": {},
   "outputs": [],
   "source": [
    "def scaller(train_list,test_list):\n",
    "    scalled_x_train,scalled_x_test = [],[]\n",
    "    df_x_train,df_x_test = [],[]\n",
    "    for i in range (0,len(train_list)):\n",
    "        column_names = train_list[i].columns\n",
    "        Standar_Scaller = StandardScaler()\n",
    "        scalled_x_train.append(Standar_Scaller.fit_transform(train_list[i]))\n",
    "        scalled_x_test.append(Standar_Scaller.transform(test_list[i]))\n",
    "        df_x_train.append(pd.DataFrame(Standar_Scaller.fit_transform(train_list[i]),columns = column_names))\n",
    "        df_x_test.append(pd.DataFrame(Standar_Scaller.transform(test_list[i]),columns=column_names))\n",
    "    return scalled_x_train,scalled_x_test,df_x_train,df_x_test"
   ]
  },
  {
   "cell_type": "markdown",
   "id": "a58a4690",
   "metadata": {},
   "source": [
    "## Hyper-Parameters Tunning Process"
   ]
  },
  {
   "cell_type": "code",
   "execution_count": 9,
   "id": "9352c350",
   "metadata": {},
   "outputs": [],
   "source": [
    "def parameter_tuning_validation(x_train, y_train, x_val, y_val):\n",
    "    # Initialize the models\n",
    "    svm_reg = SVR()\n",
    "    tree_reg = DecisionTreeRegressor()\n",
    "    xgb_reg = XGBRegressor()\n",
    "\n",
    "    # Define the hyperparameter ranges\n",
    "    svm_param_grid = {'kernel': ['linear','sigmoid', 'rbf'],'C': [0.1, 10, 15],'gamma':['scale','auto']}\n",
    "    tree_param_grid = {'criterion':['squared_error','friedman_mse'],'max_depth': [1,2,6], 'min_samples_split': [2, 5, 10]}\n",
    "    xgb_param_grid = {'n_estimators': [2, 15, 25], 'max_depth': [1, 2, 5], 'eta':[0.1,0.3,0.5]}\n",
    "\n",
    "    models = [svm_reg, tree_reg, xgb_reg]\n",
    "    param_grids = [svm_param_grid, tree_param_grid, xgb_param_grid]\n",
    "\n",
    "    best_params = []\n",
    "    for i, model in enumerate(models):\n",
    "        print('\\n')\n",
    "        best_mae = float('inf')\n",
    "        best_mape = float('inf')\n",
    "        best_params_i = {}\n",
    "        # Generate all possible combinations of hyperparameters\n",
    "        param_combinations = list(itertools.product(*(param_grids[i][param] for param in param_grids[i])))\n",
    "        for j, params in enumerate(param_combinations):\n",
    "            # Unpack the tuple of parameter values into individual arguments\n",
    "            params_dict = dict(zip(param_grids[i], params))\n",
    "            model.set_params(**params_dict)\n",
    "            model.fit(x_train, y_train)\n",
    "            y_val_pred = model.predict(x_val)\n",
    "            mae = round(mean_absolute_error(y_val, y_val_pred),4)\n",
    "            mape = round(mean_absolute_percentage_error(y_val, y_val_pred),4)\n",
    "            param_str = ', '.join([f'{param}={value}' for param, value in params_dict.items()])\n",
    "            print(f\"Experiment {j+1} with {model.__class__.__name__} using {param_str} has MAE: {mae} and MAPE: {mape}\")\n",
    "            if mae < best_mae:\n",
    "                best_mae = mae\n",
    "                best_mape = mape\n",
    "                best_params_i = dict(zip(param_grids[i], params))\n",
    "        best_params.append(best_params_i)\n",
    "    return best_params"
   ]
  },
  {
   "cell_type": "markdown",
   "id": "1e8c63b5",
   "metadata": {},
   "source": [
    "## Model Evaluation on Test-Set"
   ]
  },
  {
   "cell_type": "code",
   "execution_count": 10,
   "id": "6c542809",
   "metadata": {},
   "outputs": [],
   "source": [
    "def evaluate_models(x_train, y_train, x_test, y_test, best_params):\n",
    "    # Initialize the models with the best hyperparameters\n",
    "    svm_reg = SVR(**best_params[0])\n",
    "    tree_reg = DecisionTreeRegressor(**best_params[1])\n",
    "    xgb_reg = XGBRegressor(**best_params[2])\n",
    "\n",
    "    models = [svm_reg, tree_reg, xgb_reg]\n",
    "    model_names = ['SVM', 'Decision Tree', 'XGBoost']\n",
    "    results = {}\n",
    "    for i, model in enumerate(models):\n",
    "        model.fit(x_train, y_train)\n",
    "        y_test_pred = model.predict(x_test)\n",
    "        mae = round(mean_absolute_error(y_test, y_test_pred),4)\n",
    "        mape = round(mean_absolute_percentage_error(y_test, y_test_pred),4)\n",
    "        results[model_names[i]] = {'MAE': mae, 'MAPE': mape}\n",
    "        print(f\"{model_names[i]} model has MAE: {mae} and MAPE: {mape}\")\n",
    "    return results"
   ]
  },
  {
   "cell_type": "markdown",
   "id": "b87fd5a9",
   "metadata": {},
   "source": [
    "## Plot Results Process"
   ]
  },
  {
   "cell_type": "code",
   "execution_count": 11,
   "id": "3c871c50",
   "metadata": {},
   "outputs": [],
   "source": [
    "def plot_results(results,dept,promo):\n",
    "    model_names = list(results.keys())\n",
    "    mae = [results[model]['MAE'] for model in model_names]\n",
    "    mape = [results[model]['MAPE'] for model in model_names]\n",
    "\n",
    "    max_mae = max(mae)\n",
    "    max_mape = max(mape)\n",
    "    mae = [val/max_mae for val in mae]\n",
    "    mape = [val/max_mape for val in mape]\n",
    "\n",
    "    fig, ax = plt.subplots(figsize=(10,6))\n",
    "    x = np.arange(len(model_names))\n",
    "    width = 0.35\n",
    "\n",
    "    ax.bar(x - width/2, mae, width, label='MAE')\n",
    "    ax.bar(x + width/2, mape, width, label='MAPE')\n",
    "\n",
    "    ax.set_ylabel('Metrics')\n",
    "    if promo == 'No_Promo':\n",
    "        ax.set_title(f\"Department {dept}: Metrics by Model (Excluded Promo Info)\")\n",
    "    elif promo == 'Promo':\n",
    "        ax.set_title(f\"Department {dept}: Metrics by Model (Included Promo Info)\")\n",
    "    ax.set_xticks(x)\n",
    "    ax.set_xticklabels(model_names)\n",
    "    ax.set_ylim(0,1.2)\n",
    "    ax.legend()\n",
    "    plt.savefig('Exports/Dept_'+str(dept)+'_Metrics_by_Model_'+str(promo)+'.pdf')\n",
    "    plt.show()"
   ]
  },
  {
   "cell_type": "markdown",
   "id": "84fafe77",
   "metadata": {},
   "source": [
    "## Merge and Save Final Dataset"
   ]
  },
  {
   "cell_type": "code",
   "execution_count": 12,
   "id": "a64b89ec",
   "metadata": {},
   "outputs": [],
   "source": [
    "def save_final_df(scalled_x_train,y_train,scalled_x_test,y_test):\n",
    "    for i in range(0,len(scalled_x_train)):\n",
    "        scalled_x_train[i]['Next week'] = y_train[i].reset_index(drop=True)\n",
    "        scalled_x_test[i]['Next week'] = y_test[i].reset_index(drop=True)\n",
    "    all_train = pd.concat(scalled_x_train)\n",
    "    all_test = pd.concat(scalled_x_test)\n",
    "    final_dataset = pd.concat([all_train, all_test]).reset_index(drop=True)\n",
    "    final_dataset.to_csv('final_dataset.csv')\n",
    "    return True"
   ]
  },
  {
   "cell_type": "markdown",
   "id": "485e0451",
   "metadata": {},
   "source": [
    "## Pipeline Without Using Promo Information"
   ]
  },
  {
   "cell_type": "markdown",
   "id": "930c72d7",
   "metadata": {},
   "source": [
    "## Data Preprocessing"
   ]
  },
  {
   "cell_type": "code",
   "execution_count": 13,
   "id": "a79d2cd2",
   "metadata": {},
   "outputs": [],
   "source": [
    "promo = 'No_Promo'\n",
    "with open('dataset_object_v1.pkl', 'rb') as inp:\n",
    "    df_list = pickle.load(inp)"
   ]
  },
  {
   "cell_type": "code",
   "execution_count": 14,
   "id": "c67a1ef4",
   "metadata": {},
   "outputs": [],
   "source": [
    "promo = 'No_Promo'\n",
    "with open('dataset_object_v1.pkl', 'rb') as inp:\n",
    "    df_list = pickle.load(inp)\n",
    "df_list = create_moving_averages(df_list)\n",
    "df_list = create_trigonometric_columns(df_list)\n",
    "df_list = delete_useless_cols(df_list,promo)"
   ]
  },
  {
   "cell_type": "markdown",
   "id": "4b440e16",
   "metadata": {},
   "source": [
    "## Validation Split"
   ]
  },
  {
   "cell_type": "code",
   "execution_count": 15,
   "id": "54ddd878",
   "metadata": {},
   "outputs": [],
   "source": [
    "train_list,val_list = train_val_split(df_list)\n",
    "x_train,y_train,x_val,y_val = splits_X_y(train_list,val_list)\n",
    "scalled_x_train,scalled_x_val,df_x_train,df_x_test = scaller(x_train,x_val)"
   ]
  },
  {
   "cell_type": "markdown",
   "id": "55799a84",
   "metadata": {},
   "source": [
    "## Hyper-Parameters Tunning"
   ]
  },
  {
   "cell_type": "markdown",
   "id": "a5031491",
   "metadata": {},
   "source": [
    "### Dept 1"
   ]
  },
  {
   "cell_type": "code",
   "execution_count": 16,
   "id": "883c1750",
   "metadata": {},
   "outputs": [
    {
     "name": "stdout",
     "output_type": "stream",
     "text": [
      "Department 1, Validation Experiment:\n",
      "\n",
      "\n",
      "Experiment 1 with SVR using kernel=linear, C=0.1, gamma=scale has MAE: 2002.5544 and MAPE: 0.1402\n",
      "Experiment 2 with SVR using kernel=linear, C=0.1, gamma=auto has MAE: 2002.5544 and MAPE: 0.1402\n",
      "Experiment 3 with SVR using kernel=linear, C=10, gamma=scale has MAE: 1813.9158 and MAPE: 0.1306\n",
      "Experiment 4 with SVR using kernel=linear, C=10, gamma=auto has MAE: 1813.9158 and MAPE: 0.1306\n",
      "Experiment 5 with SVR using kernel=linear, C=15, gamma=scale has MAE: 1834.0743 and MAPE: 0.135\n",
      "Experiment 6 with SVR using kernel=linear, C=15, gamma=auto has MAE: 1834.0743 and MAPE: 0.135\n",
      "Experiment 7 with SVR using kernel=sigmoid, C=0.1, gamma=scale has MAE: 2007.7361 and MAPE: 0.1406\n",
      "Experiment 8 with SVR using kernel=sigmoid, C=0.1, gamma=auto has MAE: 2007.7596 and MAPE: 0.1406\n",
      "Experiment 9 with SVR using kernel=sigmoid, C=10, gamma=scale has MAE: 1979.7076 and MAPE: 0.1383\n",
      "Experiment 10 with SVR using kernel=sigmoid, C=10, gamma=auto has MAE: 1982.0577 and MAPE: 0.1385\n",
      "Experiment 11 with SVR using kernel=sigmoid, C=15, gamma=scale has MAE: 1965.5518 and MAPE: 0.1371\n",
      "Experiment 12 with SVR using kernel=sigmoid, C=15, gamma=auto has MAE: 1969.077 and MAPE: 0.1374\n",
      "Experiment 13 with SVR using kernel=rbf, C=0.1, gamma=scale has MAE: 2008.0169 and MAPE: 0.1406\n",
      "Experiment 14 with SVR using kernel=rbf, C=0.1, gamma=auto has MAE: 2008.0166 and MAPE: 0.1406\n",
      "Experiment 15 with SVR using kernel=rbf, C=10, gamma=scale has MAE: 2007.7858 and MAPE: 0.1404\n",
      "Experiment 16 with SVR using kernel=rbf, C=10, gamma=auto has MAE: 2007.7533 and MAPE: 0.1404\n",
      "Experiment 17 with SVR using kernel=rbf, C=15, gamma=scale has MAE: 2007.6692 and MAPE: 0.1403\n",
      "Experiment 18 with SVR using kernel=rbf, C=15, gamma=auto has MAE: 2007.6203 and MAPE: 0.1403\n",
      "\n",
      "\n",
      "Experiment 1 with DecisionTreeRegressor using criterion=squared_error, max_depth=1, min_samples_split=2 has MAE: 2370.6798 and MAPE: 0.1853\n",
      "Experiment 2 with DecisionTreeRegressor using criterion=squared_error, max_depth=1, min_samples_split=5 has MAE: 2370.6798 and MAPE: 0.1853\n",
      "Experiment 3 with DecisionTreeRegressor using criterion=squared_error, max_depth=1, min_samples_split=10 has MAE: 2370.6798 and MAPE: 0.1853\n",
      "Experiment 4 with DecisionTreeRegressor using criterion=squared_error, max_depth=2, min_samples_split=2 has MAE: 2243.4348 and MAPE: 0.176\n",
      "Experiment 5 with DecisionTreeRegressor using criterion=squared_error, max_depth=2, min_samples_split=5 has MAE: 2243.4348 and MAPE: 0.1754\n",
      "Experiment 6 with DecisionTreeRegressor using criterion=squared_error, max_depth=2, min_samples_split=10 has MAE: 2243.4348 and MAPE: 0.1754\n",
      "Experiment 7 with DecisionTreeRegressor using criterion=squared_error, max_depth=6, min_samples_split=2 has MAE: 3779.2306 and MAPE: 0.3441\n",
      "Experiment 8 with DecisionTreeRegressor using criterion=squared_error, max_depth=6, min_samples_split=5 has MAE: 3038.8011 and MAPE: 0.2798\n",
      "Experiment 9 with DecisionTreeRegressor using criterion=squared_error, max_depth=6, min_samples_split=10 has MAE: 3038.8011 and MAPE: 0.2798\n",
      "Experiment 10 with DecisionTreeRegressor using criterion=friedman_mse, max_depth=1, min_samples_split=2 has MAE: 2370.6798 and MAPE: 0.1853\n",
      "Experiment 11 with DecisionTreeRegressor using criterion=friedman_mse, max_depth=1, min_samples_split=5 has MAE: 2370.6798 and MAPE: 0.1853\n",
      "Experiment 12 with DecisionTreeRegressor using criterion=friedman_mse, max_depth=1, min_samples_split=10 has MAE: 2370.6798 and MAPE: 0.1853\n",
      "Experiment 13 with DecisionTreeRegressor using criterion=friedman_mse, max_depth=2, min_samples_split=2 has MAE: 2987.9567 and MAPE: 0.2523\n",
      "Experiment 14 with DecisionTreeRegressor using criterion=friedman_mse, max_depth=2, min_samples_split=5 has MAE: 2243.4348 and MAPE: 0.1754\n",
      "Experiment 15 with DecisionTreeRegressor using criterion=friedman_mse, max_depth=2, min_samples_split=10 has MAE: 2243.4348 and MAPE: 0.1754\n",
      "Experiment 16 with DecisionTreeRegressor using criterion=friedman_mse, max_depth=6, min_samples_split=2 has MAE: 3792.259 and MAPE: 0.345\n",
      "Experiment 17 with DecisionTreeRegressor using criterion=friedman_mse, max_depth=6, min_samples_split=5 has MAE: 3038.8011 and MAPE: 0.2798\n",
      "Experiment 18 with DecisionTreeRegressor using criterion=friedman_mse, max_depth=6, min_samples_split=10 has MAE: 3038.8011 and MAPE: 0.2798\n",
      "\n",
      "\n",
      "Experiment 1 with XGBRegressor using n_estimators=2, max_depth=1, eta=0.1 has MAE: 9534.1075 and MAPE: 0.8153\n",
      "Experiment 2 with XGBRegressor using n_estimators=2, max_depth=1, eta=0.3 has MAE: 6114.3659 and MAPE: 0.5071\n",
      "Experiment 3 with XGBRegressor using n_estimators=2, max_depth=1, eta=0.5 has MAE: 3505.8355 and MAPE: 0.2717\n",
      "Experiment 4 with XGBRegressor using n_estimators=2, max_depth=2, eta=0.1 has MAE: 9534.1075 and MAPE: 0.8153\n",
      "Experiment 5 with XGBRegressor using n_estimators=2, max_depth=2, eta=0.3 has MAE: 6114.3659 and MAPE: 0.5071\n",
      "Experiment 6 with XGBRegressor using n_estimators=2, max_depth=2, eta=0.5 has MAE: 3647.5036 and MAPE: 0.2825\n",
      "Experiment 7 with XGBRegressor using n_estimators=2, max_depth=5, eta=0.1 has MAE: 9534.1075 and MAPE: 0.8153\n",
      "Experiment 8 with XGBRegressor using n_estimators=2, max_depth=5, eta=0.3 has MAE: 6114.3659 and MAPE: 0.5071\n",
      "Experiment 9 with XGBRegressor using n_estimators=2, max_depth=5, eta=0.5 has MAE: 3872.6193 and MAPE: 0.2998\n",
      "Experiment 10 with XGBRegressor using n_estimators=15, max_depth=1, eta=0.1 has MAE: 2994.0436 and MAPE: 0.223\n",
      "Experiment 11 with XGBRegressor using n_estimators=15, max_depth=1, eta=0.3 has MAE: 2385.9425 and MAPE: 0.1954\n",
      "Experiment 12 with XGBRegressor using n_estimators=15, max_depth=1, eta=0.5 has MAE: 2165.2627 and MAPE: 0.17\n",
      "Experiment 13 with XGBRegressor using n_estimators=15, max_depth=2, eta=0.1 has MAE: 3437.8061 and MAPE: 0.2648\n",
      "Experiment 14 with XGBRegressor using n_estimators=15, max_depth=2, eta=0.3 has MAE: 2527.4433 and MAPE: 0.2124\n",
      "Experiment 15 with XGBRegressor using n_estimators=15, max_depth=2, eta=0.5 has MAE: 2802.222 and MAPE: 0.2335\n",
      "Experiment 16 with XGBRegressor using n_estimators=15, max_depth=5, eta=0.1 has MAE: 3979.641 and MAPE: 0.3098\n",
      "Experiment 17 with XGBRegressor using n_estimators=15, max_depth=5, eta=0.3 has MAE: 3299.1841 and MAPE: 0.2705\n",
      "Experiment 18 with XGBRegressor using n_estimators=15, max_depth=5, eta=0.5 has MAE: 3152.6206 and MAPE: 0.2704\n",
      "Experiment 19 with XGBRegressor using n_estimators=25, max_depth=1, eta=0.1 has MAE: 2120.0544 and MAPE: 0.1534\n",
      "Experiment 20 with XGBRegressor using n_estimators=25, max_depth=1, eta=0.3 has MAE: 2322.9432 and MAPE: 0.1955\n",
      "Experiment 21 with XGBRegressor using n_estimators=25, max_depth=1, eta=0.5 has MAE: 2273.84 and MAPE: 0.1908\n",
      "Experiment 22 with XGBRegressor using n_estimators=25, max_depth=2, eta=0.1 has MAE: 2612.9551 and MAPE: 0.2036\n",
      "Experiment 23 with XGBRegressor using n_estimators=25, max_depth=2, eta=0.3 has MAE: 2729.8409 and MAPE: 0.2295\n",
      "Experiment 24 with XGBRegressor using n_estimators=25, max_depth=2, eta=0.5 has MAE: 2871.3279 and MAPE: 0.239\n",
      "Experiment 25 with XGBRegressor using n_estimators=25, max_depth=5, eta=0.1 has MAE: 3164.97 and MAPE: 0.2462\n",
      "Experiment 26 with XGBRegressor using n_estimators=25, max_depth=5, eta=0.3 has MAE: 3379.0889 and MAPE: 0.2812\n",
      "Experiment 27 with XGBRegressor using n_estimators=25, max_depth=5, eta=0.5 has MAE: 3173.5005 and MAPE: 0.2728\n",
      "\n",
      "Best Parameters for SVR: {'kernel': 'linear', 'C': 10, 'gamma': 'scale'}\n",
      "Best Parameters for DecisionTreeRegressor: {'criterion': 'squared_error', 'max_depth': 2, 'min_samples_split': 2}\n",
      "Best Parameters for XGBRegressor: {'n_estimators': 25, 'max_depth': 1, 'eta': 0.1}\n"
     ]
    }
   ],
   "source": [
    "scalled_x_train_d1 = scalled_x_train[0]\n",
    "scalled_x_val_d1 = scalled_x_val[0]\n",
    "y_train_d1 = y_train[0]\n",
    "y_val_d1 = y_val[0]\n",
    "print('Department 1, Validation Experiment:')\n",
    "best_params_d1 = parameter_tuning_validation(scalled_x_train_d1,y_train_d1,scalled_x_val_d1,y_val_d1)\n",
    "print ('\\nBest Parameters for SVR:',best_params_d1[0])\n",
    "print ('Best Parameters for DecisionTreeRegressor:',best_params_d1[1])\n",
    "print ('Best Parameters for XGBRegressor:',best_params_d1[2])"
   ]
  },
  {
   "cell_type": "markdown",
   "id": "a5cd1fa6",
   "metadata": {},
   "source": [
    "### Dept 2"
   ]
  },
  {
   "cell_type": "code",
   "execution_count": 17,
   "id": "0930686e",
   "metadata": {},
   "outputs": [
    {
     "name": "stdout",
     "output_type": "stream",
     "text": [
      "Department 2, Validation Experiment:\n",
      "\n",
      "\n",
      "Experiment 1 with SVR using kernel=linear, C=0.1, gamma=scale has MAE: 759.5348 and MAPE: 0.0462\n",
      "Experiment 2 with SVR using kernel=linear, C=0.1, gamma=auto has MAE: 759.5348 and MAPE: 0.0462\n",
      "Experiment 3 with SVR using kernel=linear, C=10, gamma=scale has MAE: 1373.8037 and MAPE: 0.0863\n",
      "Experiment 4 with SVR using kernel=linear, C=10, gamma=auto has MAE: 1373.8037 and MAPE: 0.0863\n",
      "Experiment 5 with SVR using kernel=linear, C=15, gamma=scale has MAE: 1517.3116 and MAPE: 0.0951\n",
      "Experiment 6 with SVR using kernel=linear, C=15, gamma=auto has MAE: 1517.3116 and MAPE: 0.0951\n",
      "Experiment 7 with SVR using kernel=sigmoid, C=0.1, gamma=scale has MAE: 762.1011 and MAPE: 0.0463\n",
      "Experiment 8 with SVR using kernel=sigmoid, C=0.1, gamma=auto has MAE: 762.1061 and MAPE: 0.0463\n",
      "Experiment 9 with SVR using kernel=sigmoid, C=10, gamma=scale has MAE: 754.9063 and MAPE: 0.0461\n",
      "Experiment 10 with SVR using kernel=sigmoid, C=10, gamma=auto has MAE: 755.0259 and MAPE: 0.0461\n",
      "Experiment 11 with SVR using kernel=sigmoid, C=15, gamma=scale has MAE: 753.7577 and MAPE: 0.0462\n",
      "Experiment 12 with SVR using kernel=sigmoid, C=15, gamma=auto has MAE: 753.9371 and MAPE: 0.0462\n",
      "Experiment 13 with SVR using kernel=rbf, C=0.1, gamma=scale has MAE: 762.219 and MAPE: 0.0463\n",
      "Experiment 14 with SVR using kernel=rbf, C=0.1, gamma=auto has MAE: 762.2202 and MAPE: 0.0463\n",
      "Experiment 15 with SVR using kernel=rbf, C=10, gamma=scale has MAE: 763.8364 and MAPE: 0.0464\n",
      "Experiment 16 with SVR using kernel=rbf, C=10, gamma=auto has MAE: 763.9549 and MAPE: 0.0464\n",
      "Experiment 17 with SVR using kernel=rbf, C=15, gamma=scale has MAE: 764.6533 and MAPE: 0.0464\n",
      "Experiment 18 with SVR using kernel=rbf, C=15, gamma=auto has MAE: 764.831 and MAPE: 0.0464\n",
      "\n",
      "\n",
      "Experiment 1 with DecisionTreeRegressor using criterion=squared_error, max_depth=1, min_samples_split=2 has MAE: 1088.9298 and MAPE: 0.0683\n",
      "Experiment 2 with DecisionTreeRegressor using criterion=squared_error, max_depth=1, min_samples_split=5 has MAE: 1088.9298 and MAPE: 0.0683\n",
      "Experiment 3 with DecisionTreeRegressor using criterion=squared_error, max_depth=1, min_samples_split=10 has MAE: 1088.9298 and MAPE: 0.0683\n",
      "Experiment 4 with DecisionTreeRegressor using criterion=squared_error, max_depth=2, min_samples_split=2 has MAE: 926.4934 and MAPE: 0.0582\n",
      "Experiment 5 with DecisionTreeRegressor using criterion=squared_error, max_depth=2, min_samples_split=5 has MAE: 1120.6236 and MAPE: 0.0702\n",
      "Experiment 6 with DecisionTreeRegressor using criterion=squared_error, max_depth=2, min_samples_split=10 has MAE: 1061.9471 and MAPE: 0.0668\n",
      "Experiment 7 with DecisionTreeRegressor using criterion=squared_error, max_depth=6, min_samples_split=2 has MAE: 1220.8154 and MAPE: 0.0763\n",
      "Experiment 8 with DecisionTreeRegressor using criterion=squared_error, max_depth=6, min_samples_split=5 has MAE: 1240.62 and MAPE: 0.0775\n",
      "Experiment 9 with DecisionTreeRegressor using criterion=squared_error, max_depth=6, min_samples_split=10 has MAE: 1129.8979 and MAPE: 0.0707\n",
      "Experiment 10 with DecisionTreeRegressor using criterion=friedman_mse, max_depth=1, min_samples_split=2 has MAE: 1088.9298 and MAPE: 0.0683\n",
      "Experiment 11 with DecisionTreeRegressor using criterion=friedman_mse, max_depth=1, min_samples_split=5 has MAE: 1088.9298 and MAPE: 0.0683\n",
      "Experiment 12 with DecisionTreeRegressor using criterion=friedman_mse, max_depth=1, min_samples_split=10 has MAE: 1088.9298 and MAPE: 0.0683\n",
      "Experiment 13 with DecisionTreeRegressor using criterion=friedman_mse, max_depth=2, min_samples_split=2 has MAE: 1038.3739 and MAPE: 0.0658\n",
      "Experiment 14 with DecisionTreeRegressor using criterion=friedman_mse, max_depth=2, min_samples_split=5 has MAE: 926.4934 and MAPE: 0.0582\n",
      "Experiment 15 with DecisionTreeRegressor using criterion=friedman_mse, max_depth=2, min_samples_split=10 has MAE: 1061.9471 and MAPE: 0.0668\n",
      "Experiment 16 with DecisionTreeRegressor using criterion=friedman_mse, max_depth=6, min_samples_split=2 has MAE: 1525.4282 and MAPE: 0.0953\n",
      "Experiment 17 with DecisionTreeRegressor using criterion=friedman_mse, max_depth=6, min_samples_split=5 has MAE: 1401.5097 and MAPE: 0.0878\n",
      "Experiment 18 with DecisionTreeRegressor using criterion=friedman_mse, max_depth=6, min_samples_split=10 has MAE: 1129.8979 and MAPE: 0.0707\n",
      "\n",
      "\n",
      "Experiment 1 with XGBRegressor using n_estimators=2, max_depth=1, eta=0.1 has MAE: 13556.3189 and MAPE: 0.8154\n",
      "Experiment 2 with XGBRegressor using n_estimators=2, max_depth=1, eta=0.3 has MAE: 8392.9458 and MAPE: 0.5034\n",
      "Experiment 3 with XGBRegressor using n_estimators=2, max_depth=1, eta=0.5 has MAE: 4486.9761 and MAPE: 0.2673\n",
      "Experiment 4 with XGBRegressor using n_estimators=2, max_depth=2, eta=0.1 has MAE: 13556.3189 and MAPE: 0.8154\n",
      "Experiment 5 with XGBRegressor using n_estimators=2, max_depth=2, eta=0.3 has MAE: 8392.9458 and MAPE: 0.5034\n",
      "Experiment 6 with XGBRegressor using n_estimators=2, max_depth=2, eta=0.5 has MAE: 4486.9761 and MAPE: 0.2673\n",
      "Experiment 7 with XGBRegressor using n_estimators=2, max_depth=5, eta=0.1 has MAE: 13556.3189 and MAPE: 0.8154\n",
      "Experiment 8 with XGBRegressor using n_estimators=2, max_depth=5, eta=0.3 has MAE: 8392.9458 and MAPE: 0.5034\n",
      "Experiment 9 with XGBRegressor using n_estimators=2, max_depth=5, eta=0.5 has MAE: 4486.9761 and MAPE: 0.2673\n",
      "Experiment 10 with XGBRegressor using n_estimators=15, max_depth=1, eta=0.1 has MAE: 3686.4588 and MAPE: 0.2189\n",
      "Experiment 11 with XGBRegressor using n_estimators=15, max_depth=1, eta=0.3 has MAE: 750.2211 and MAPE: 0.046\n",
      "Experiment 12 with XGBRegressor using n_estimators=15, max_depth=1, eta=0.5 has MAE: 757.7118 and MAPE: 0.0474\n",
      "Experiment 13 with XGBRegressor using n_estimators=15, max_depth=2, eta=0.1 has MAE: 3686.4588 and MAPE: 0.2189\n",
      "Experiment 14 with XGBRegressor using n_estimators=15, max_depth=2, eta=0.3 has MAE: 813.6835 and MAPE: 0.0495\n",
      "Experiment 15 with XGBRegressor using n_estimators=15, max_depth=2, eta=0.5 has MAE: 844.9243 and MAPE: 0.0512\n",
      "Experiment 16 with XGBRegressor using n_estimators=15, max_depth=5, eta=0.1 has MAE: 3686.4588 and MAPE: 0.2189\n",
      "Experiment 17 with XGBRegressor using n_estimators=15, max_depth=5, eta=0.3 has MAE: 999.1431 and MAPE: 0.0601\n",
      "Experiment 18 with XGBRegressor using n_estimators=15, max_depth=5, eta=0.5 has MAE: 912.2489 and MAPE: 0.0558\n",
      "Experiment 19 with XGBRegressor using n_estimators=25, max_depth=1, eta=0.1 has MAE: 1500.6122 and MAPE: 0.0886\n",
      "Experiment 20 with XGBRegressor using n_estimators=25, max_depth=1, eta=0.3 has MAE: 737.3455 and MAPE: 0.0457\n",
      "Experiment 21 with XGBRegressor using n_estimators=25, max_depth=1, eta=0.5 has MAE: 822.8291 and MAPE: 0.0519\n",
      "Experiment 22 with XGBRegressor using n_estimators=25, max_depth=2, eta=0.1 has MAE: 1626.6843 and MAPE: 0.0963\n",
      "Experiment 23 with XGBRegressor using n_estimators=25, max_depth=2, eta=0.3 has MAE: 802.2607 and MAPE: 0.0491\n",
      "Experiment 24 with XGBRegressor using n_estimators=25, max_depth=2, eta=0.5 has MAE: 857.1236 and MAPE: 0.0526\n",
      "Experiment 25 with XGBRegressor using n_estimators=25, max_depth=5, eta=0.1 has MAE: 1711.1538 and MAPE: 0.1014\n",
      "Experiment 26 with XGBRegressor using n_estimators=25, max_depth=5, eta=0.3 has MAE: 1023.1383 and MAPE: 0.0621\n",
      "Experiment 27 with XGBRegressor using n_estimators=25, max_depth=5, eta=0.5 has MAE: 910.1676 and MAPE: 0.0558\n",
      "\n",
      "Best Parameters for SVR: {'kernel': 'sigmoid', 'C': 15, 'gamma': 'scale'}\n",
      "Best Parameters for DecisionTreeRegressor: {'criterion': 'squared_error', 'max_depth': 2, 'min_samples_split': 2}\n",
      "Best Parameters for XGBRegressor: {'n_estimators': 25, 'max_depth': 1, 'eta': 0.3}\n"
     ]
    }
   ],
   "source": [
    "scalled_x_train_d2 = scalled_x_train[1]\n",
    "scalled_x_val_d2 = scalled_x_val[1]\n",
    "y_train_d2 = y_train[1]\n",
    "y_val_d2 = y_val[1]\n",
    "print('Department 2, Validation Experiment:')\n",
    "best_params_d2 = parameter_tuning_validation(scalled_x_train_d2,y_train_d2,scalled_x_val_d2,y_val_d2)\n",
    "print ('\\nBest Parameters for SVR:',best_params_d2[0])\n",
    "print ('Best Parameters for DecisionTreeRegressor:',best_params_d2[1])\n",
    "print ('Best Parameters for XGBRegressor:',best_params_d2[2])"
   ]
  },
  {
   "cell_type": "markdown",
   "id": "39fb2875",
   "metadata": {},
   "source": [
    "### Dept 5"
   ]
  },
  {
   "cell_type": "code",
   "execution_count": 18,
   "id": "e7757a32",
   "metadata": {},
   "outputs": [
    {
     "name": "stdout",
     "output_type": "stream",
     "text": [
      "Department 2, Validation Experiment:\n",
      "\n",
      "\n",
      "Experiment 1 with SVR using kernel=linear, C=0.1, gamma=scale has MAE: 280.2205 and MAPE: 0.2529\n",
      "Experiment 2 with SVR using kernel=linear, C=0.1, gamma=auto has MAE: 280.2205 and MAPE: 0.2529\n",
      "Experiment 3 with SVR using kernel=linear, C=10, gamma=scale has MAE: 348.228 and MAPE: 0.3635\n",
      "Experiment 4 with SVR using kernel=linear, C=10, gamma=auto has MAE: 348.228 and MAPE: 0.3635\n",
      "Experiment 5 with SVR using kernel=linear, C=15, gamma=scale has MAE: 351.6478 and MAPE: 0.359\n",
      "Experiment 6 with SVR using kernel=linear, C=15, gamma=auto has MAE: 351.6478 and MAPE: 0.359\n",
      "Experiment 7 with SVR using kernel=sigmoid, C=0.1, gamma=scale has MAE: 284.5744 and MAPE: 0.2574\n",
      "Experiment 8 with SVR using kernel=sigmoid, C=0.1, gamma=auto has MAE: 284.5859 and MAPE: 0.2574\n",
      "Experiment 9 with SVR using kernel=sigmoid, C=10, gamma=scale has MAE: 273.4182 and MAPE: 0.2442\n",
      "Experiment 10 with SVR using kernel=sigmoid, C=10, gamma=auto has MAE: 273.7469 and MAPE: 0.2454\n",
      "Experiment 11 with SVR using kernel=sigmoid, C=15, gamma=scale has MAE: 270.8012 and MAPE: 0.2466\n",
      "Experiment 12 with SVR using kernel=sigmoid, C=15, gamma=auto has MAE: 270.5813 and MAPE: 0.244\n",
      "Experiment 13 with SVR using kernel=rbf, C=0.1, gamma=scale has MAE: 284.772 and MAPE: 0.2576\n",
      "Experiment 14 with SVR using kernel=rbf, C=0.1, gamma=auto has MAE: 284.7715 and MAPE: 0.2576\n",
      "Experiment 15 with SVR using kernel=rbf, C=10, gamma=scale has MAE: 284.4359 and MAPE: 0.2516\n",
      "Experiment 16 with SVR using kernel=rbf, C=10, gamma=auto has MAE: 284.4005 and MAPE: 0.2514\n",
      "Experiment 17 with SVR using kernel=rbf, C=15, gamma=scale has MAE: 284.3668 and MAPE: 0.25\n",
      "Experiment 18 with SVR using kernel=rbf, C=15, gamma=auto has MAE: 284.3557 and MAPE: 0.2497\n",
      "\n",
      "\n",
      "Experiment 1 with DecisionTreeRegressor using criterion=squared_error, max_depth=1, min_samples_split=2 has MAE: 288.4664 and MAPE: 0.2959\n",
      "Experiment 2 with DecisionTreeRegressor using criterion=squared_error, max_depth=1, min_samples_split=5 has MAE: 288.4664 and MAPE: 0.2959\n",
      "Experiment 3 with DecisionTreeRegressor using criterion=squared_error, max_depth=1, min_samples_split=10 has MAE: 288.4664 and MAPE: 0.2959\n",
      "Experiment 4 with DecisionTreeRegressor using criterion=squared_error, max_depth=2, min_samples_split=2 has MAE: 375.0851 and MAPE: 0.4103\n",
      "Experiment 5 with DecisionTreeRegressor using criterion=squared_error, max_depth=2, min_samples_split=5 has MAE: 376.3437 and MAPE: 0.4171\n",
      "Experiment 6 with DecisionTreeRegressor using criterion=squared_error, max_depth=2, min_samples_split=10 has MAE: 376.3437 and MAPE: 0.4171\n",
      "Experiment 7 with DecisionTreeRegressor using criterion=squared_error, max_depth=6, min_samples_split=2 has MAE: 404.1099 and MAPE: 0.4509\n",
      "Experiment 8 with DecisionTreeRegressor using criterion=squared_error, max_depth=6, min_samples_split=5 has MAE: 396.1662 and MAPE: 0.4446\n",
      "Experiment 9 with DecisionTreeRegressor using criterion=squared_error, max_depth=6, min_samples_split=10 has MAE: 361.8336 and MAPE: 0.4025\n",
      "Experiment 10 with DecisionTreeRegressor using criterion=friedman_mse, max_depth=1, min_samples_split=2 has MAE: 288.4664 and MAPE: 0.2959\n",
      "Experiment 11 with DecisionTreeRegressor using criterion=friedman_mse, max_depth=1, min_samples_split=5 has MAE: 288.4664 and MAPE: 0.2959\n",
      "Experiment 12 with DecisionTreeRegressor using criterion=friedman_mse, max_depth=1, min_samples_split=10 has MAE: 288.4664 and MAPE: 0.2959\n",
      "Experiment 13 with DecisionTreeRegressor using criterion=friedman_mse, max_depth=2, min_samples_split=2 has MAE: 375.0851 and MAPE: 0.4103\n",
      "Experiment 14 with DecisionTreeRegressor using criterion=friedman_mse, max_depth=2, min_samples_split=5 has MAE: 376.3437 and MAPE: 0.4171\n",
      "Experiment 15 with DecisionTreeRegressor using criterion=friedman_mse, max_depth=2, min_samples_split=10 has MAE: 376.3437 and MAPE: 0.4171\n",
      "Experiment 16 with DecisionTreeRegressor using criterion=friedman_mse, max_depth=6, min_samples_split=2 has MAE: 559.3237 and MAPE: 0.6488\n",
      "Experiment 17 with DecisionTreeRegressor using criterion=friedman_mse, max_depth=6, min_samples_split=5 has MAE: 396.1662 and MAPE: 0.4446\n",
      "Experiment 18 with DecisionTreeRegressor using criterion=friedman_mse, max_depth=6, min_samples_split=10 has MAE: 361.8336 and MAPE: 0.4025\n",
      "\n",
      "\n",
      "Experiment 1 with XGBRegressor using n_estimators=2, max_depth=1, eta=0.1 has MAE: 813.9702 and MAPE: 0.7393\n",
      "Experiment 2 with XGBRegressor using n_estimators=2, max_depth=1, eta=0.3 has MAE: 468.9832 and MAPE: 0.3803\n",
      "Experiment 3 with XGBRegressor using n_estimators=2, max_depth=1, eta=0.5 has MAE: 288.2601 and MAPE: 0.2369\n",
      "Experiment 4 with XGBRegressor using n_estimators=2, max_depth=2, eta=0.1 has MAE: 846.0534 and MAPE: 0.7732\n",
      "Experiment 5 with XGBRegressor using n_estimators=2, max_depth=2, eta=0.3 has MAE: 486.7614 and MAPE: 0.3983\n",
      "Experiment 6 with XGBRegressor using n_estimators=2, max_depth=2, eta=0.5 has MAE: 336.7161 and MAPE: 0.2597\n",
      "Experiment 7 with XGBRegressor using n_estimators=2, max_depth=5, eta=0.1 has MAE: 846.0534 and MAPE: 0.7732\n",
      "Experiment 8 with XGBRegressor using n_estimators=2, max_depth=5, eta=0.3 has MAE: 577.9044 and MAPE: 0.4906\n",
      "Experiment 9 with XGBRegressor using n_estimators=2, max_depth=5, eta=0.5 has MAE: 350.7162 and MAPE: 0.2719\n",
      "Experiment 10 with XGBRegressor using n_estimators=15, max_depth=1, eta=0.1 has MAE: 274.0251 and MAPE: 0.2347\n",
      "Experiment 11 with XGBRegressor using n_estimators=15, max_depth=1, eta=0.3 has MAE: 329.0474 and MAPE: 0.3531\n",
      "Experiment 12 with XGBRegressor using n_estimators=15, max_depth=1, eta=0.5 has MAE: 346.8822 and MAPE: 0.3739\n",
      "Experiment 13 with XGBRegressor using n_estimators=15, max_depth=2, eta=0.1 has MAE: 330.3064 and MAPE: 0.2586\n",
      "Experiment 14 with XGBRegressor using n_estimators=15, max_depth=2, eta=0.3 has MAE: 280.4896 and MAPE: 0.2538\n",
      "Experiment 15 with XGBRegressor using n_estimators=15, max_depth=2, eta=0.5 has MAE: 314.8506 and MAPE: 0.3054\n",
      "Experiment 16 with XGBRegressor using n_estimators=15, max_depth=5, eta=0.1 has MAE: 354.5415 and MAPE: 0.281\n",
      "Experiment 17 with XGBRegressor using n_estimators=15, max_depth=5, eta=0.3 has MAE: 308.9235 and MAPE: 0.2852\n",
      "Experiment 18 with XGBRegressor using n_estimators=15, max_depth=5, eta=0.5 has MAE: 290.7311 and MAPE: 0.2721\n",
      "Experiment 19 with XGBRegressor using n_estimators=25, max_depth=1, eta=0.1 has MAE: 283.9343 and MAPE: 0.2841\n",
      "Experiment 20 with XGBRegressor using n_estimators=25, max_depth=1, eta=0.3 has MAE: 333.5422 and MAPE: 0.3597\n",
      "Experiment 21 with XGBRegressor using n_estimators=25, max_depth=1, eta=0.5 has MAE: 326.6478 and MAPE: 0.3465\n",
      "Experiment 22 with XGBRegressor using n_estimators=25, max_depth=2, eta=0.1 has MAE: 292.7869 and MAPE: 0.2474\n",
      "Experiment 23 with XGBRegressor using n_estimators=25, max_depth=2, eta=0.3 has MAE: 287.0386 and MAPE: 0.2598\n",
      "Experiment 24 with XGBRegressor using n_estimators=25, max_depth=2, eta=0.5 has MAE: 316.6288 and MAPE: 0.3094\n",
      "Experiment 25 with XGBRegressor using n_estimators=25, max_depth=5, eta=0.1 has MAE: 312.3876 and MAPE: 0.264\n",
      "Experiment 26 with XGBRegressor using n_estimators=25, max_depth=5, eta=0.3 has MAE: 315.4117 and MAPE: 0.301\n",
      "Experiment 27 with XGBRegressor using n_estimators=25, max_depth=5, eta=0.5 has MAE: 289.9488 and MAPE: 0.2716\n",
      "\n",
      "Best Parameters for SVR: {'kernel': 'sigmoid', 'C': 15, 'gamma': 'auto'}\n",
      "Best Parameters for DecisionTreeRegressor: {'criterion': 'squared_error', 'max_depth': 1, 'min_samples_split': 2}\n",
      "Best Parameters for XGBRegressor: {'n_estimators': 15, 'max_depth': 1, 'eta': 0.1}\n"
     ]
    }
   ],
   "source": [
    "scalled_x_train_d5 = scalled_x_train[2]\n",
    "scalled_x_val_d5 = scalled_x_val[2]\n",
    "y_train_d5 = y_train[2]\n",
    "y_val_d5 = y_val[2]\n",
    "print('Department 2, Validation Experiment:')\n",
    "best_params_d5 = parameter_tuning_validation(scalled_x_train_d5,y_train_d5,scalled_x_val_d5,y_val_d5)\n",
    "print ('\\nBest Parameters for SVR:',best_params_d5[0])\n",
    "print ('Best Parameters for DecisionTreeRegressor:',best_params_d5[1])\n",
    "print ('Best Parameters for XGBRegressor:',best_params_d5[2])"
   ]
  },
  {
   "cell_type": "markdown",
   "id": "d01141d2",
   "metadata": {},
   "source": [
    "## Evalaution on Test Set"
   ]
  },
  {
   "cell_type": "markdown",
   "id": "942d9d55",
   "metadata": {},
   "source": [
    "### Train-Test Split"
   ]
  },
  {
   "cell_type": "code",
   "execution_count": 19,
   "id": "fab4cb44",
   "metadata": {},
   "outputs": [],
   "source": [
    "train_list,test_list = train_test_split(df_list)\n",
    "x_train,y_train,x_test,y_test = splits_X_y(train_list,test_list)\n",
    "scalled_x_train,scalled_x_test,df_x_train,df_x_test = scaller(x_train,x_test)"
   ]
  },
  {
   "cell_type": "markdown",
   "id": "624cdc6b",
   "metadata": {},
   "source": [
    "### Dept 1"
   ]
  },
  {
   "cell_type": "code",
   "execution_count": 20,
   "id": "469c5d8d",
   "metadata": {},
   "outputs": [
    {
     "name": "stdout",
     "output_type": "stream",
     "text": [
      "Department 1, Evaluation on Test set:\n",
      "\n",
      "SVM model has MAE: 2723.579 and MAPE: 0.2588\n",
      "Decision Tree model has MAE: 3770.615 and MAPE: 0.3783\n",
      "XGBoost model has MAE: 2532.1519 and MAPE: 0.2336\n"
     ]
    },
    {
     "data": {
      "image/png": "[encoded data removed]",
      "text/plain": [
       "<Figure size 1000x600 with 1 Axes>"
      ]
     },
     "metadata": {},
     "output_type": "display_data"
    }
   ],
   "source": [
    "scalled_x_train_d1 = scalled_x_train[0]\n",
    "scalled_x_test_d1 = scalled_x_test[0]\n",
    "y_train_d1 = y_train[0]\n",
    "y_test_d1 = y_test[0]\n",
    "print('Department 1, Evaluation on Test set:\\n')\n",
    "results_d1_no_promo = evaluate_models(scalled_x_train_d1,y_train_d1,scalled_x_test_d1,y_test_d1,best_params_d1)\n",
    "plot_results(results_d1_no_promo,'1',promo)"
   ]
  },
  {
   "cell_type": "markdown",
   "id": "344f0f70",
   "metadata": {},
   "source": [
    "### Dept 2"
   ]
  },
  {
   "cell_type": "code",
   "execution_count": 21,
   "id": "8a221dec",
   "metadata": {},
   "outputs": [
    {
     "name": "stdout",
     "output_type": "stream",
     "text": [
      "Department 2, Evaluation on Test set:\n",
      "\n",
      "SVM model has MAE: 723.464 and MAPE: 0.0453\n",
      "Decision Tree model has MAE: 719.3781 and MAPE: 0.0455\n",
      "XGBoost model has MAE: 820.4272 and MAPE: 0.0517\n"
     ]
    },
    {
     "data": {
      "image/png": "[encoded data removed]",
      "text/plain": [
       "<Figure size 1000x600 with 1 Axes>"
      ]
     },
     "metadata": {},
     "output_type": "display_data"
    }
   ],
   "source": [
    "scalled_x_train_d2 = scalled_x_train[1]\n",
    "scalled_x_test_d2 = scalled_x_test[1]\n",
    "y_train_d2 = y_train[1]\n",
    "y_test_d2 = y_test[1]\n",
    "print('Department 2, Evaluation on Test set:\\n')\n",
    "results_d2_no_promo = evaluate_models(scalled_x_train_d2,y_train_d2,scalled_x_test_d2,y_test_d2,best_params_d2)\n",
    "plot_results(results_d2_no_promo,'2',promo)"
   ]
  },
  {
   "cell_type": "markdown",
   "id": "b5527153",
   "metadata": {},
   "source": [
    "### Dept 5"
   ]
  },
  {
   "cell_type": "code",
   "execution_count": 22,
   "id": "556afb3a",
   "metadata": {},
   "outputs": [
    {
     "name": "stdout",
     "output_type": "stream",
     "text": [
      "Department 5, Evaluation on Test set:\n",
      "\n",
      "SVM model has MAE: 303.5123 and MAPE: 0.2321\n",
      "Decision Tree model has MAE: 357.503 and MAPE: 0.2832\n",
      "XGBoost model has MAE: 422.1815 and MAPE: 0.3098\n"
     ]
    },
    {
     "data": {
      "image/png": "[encoded data removed]",
      "text/plain": [
       "<Figure size 1000x600 with 1 Axes>"
      ]
     },
     "metadata": {},
     "output_type": "display_data"
    }
   ],
   "source": [
    "scalled_x_train_d5 = scalled_x_train[2]\n",
    "scalled_x_test_d5 = scalled_x_test[2]\n",
    "y_train_d5 = y_train[2]\n",
    "y_test_d5 = y_test[2]\n",
    "print('Department 5, Evaluation on Test set:\\n')\n",
    "results_d5_no_promo = evaluate_models(scalled_x_train_d5,y_train_d5,scalled_x_test_d5,y_test_d5,best_params_d5)\n",
    "plot_results(results_d5_no_promo,'5',promo)"
   ]
  },
  {
   "cell_type": "markdown",
   "id": "0bf6913a",
   "metadata": {},
   "source": [
    "## Pipeline Using Promo Information"
   ]
  },
  {
   "cell_type": "markdown",
   "id": "b270f5e0",
   "metadata": {},
   "source": [
    "## Data Preprocessing"
   ]
  },
  {
   "cell_type": "code",
   "execution_count": 23,
   "id": "656387c1",
   "metadata": {},
   "outputs": [],
   "source": [
    "promo = 'Promo'\n",
    "with open('dataset_object_v1.pkl', 'rb') as inp:\n",
    "    df_list = pickle.load(inp)\n",
    "df_list = create_moving_averages(df_list)\n",
    "df_list = create_trigonometric_columns(df_list)\n",
    "df_list = delete_useless_cols(df_list,promo)"
   ]
  },
  {
   "cell_type": "markdown",
   "id": "d9267973",
   "metadata": {},
   "source": [
    "## Validation Split"
   ]
  },
  {
   "cell_type": "code",
   "execution_count": 24,
   "id": "38ea2023",
   "metadata": {},
   "outputs": [],
   "source": [
    "train_list,val_list = train_val_split(df_list)\n",
    "x_train,y_train,x_val,y_val = splits_X_y(train_list,val_list)\n",
    "scalled_x_train,scalled_x_val,df_x_train,df_x_test = scaller(x_train,x_val)"
   ]
  },
  {
   "cell_type": "markdown",
   "id": "491adcf7",
   "metadata": {},
   "source": [
    "## Hyper-Parameters Tunning"
   ]
  },
  {
   "cell_type": "markdown",
   "id": "17a6090d",
   "metadata": {},
   "source": [
    "### Dept 1"
   ]
  },
  {
   "cell_type": "code",
   "execution_count": 25,
   "id": "4ad2c0ae",
   "metadata": {},
   "outputs": [
    {
     "name": "stdout",
     "output_type": "stream",
     "text": [
      "Department 1, Validation Experiment:\n",
      "\n",
      "\n",
      "Experiment 1 with SVR using kernel=linear, C=0.1, gamma=scale has MAE: 2002.5544 and MAPE: 0.1402\n",
      "Experiment 2 with SVR using kernel=linear, C=0.1, gamma=auto has MAE: 2002.5544 and MAPE: 0.1402\n",
      "Experiment 3 with SVR using kernel=linear, C=10, gamma=scale has MAE: 1813.9158 and MAPE: 0.1306\n",
      "Experiment 4 with SVR using kernel=linear, C=10, gamma=auto has MAE: 1813.9158 and MAPE: 0.1306\n",
      "Experiment 5 with SVR using kernel=linear, C=15, gamma=scale has MAE: 1834.0743 and MAPE: 0.135\n",
      "Experiment 6 with SVR using kernel=linear, C=15, gamma=auto has MAE: 1834.0743 and MAPE: 0.135\n",
      "Experiment 7 with SVR using kernel=sigmoid, C=0.1, gamma=scale has MAE: 2007.7361 and MAPE: 0.1406\n",
      "Experiment 8 with SVR using kernel=sigmoid, C=0.1, gamma=auto has MAE: 2007.8053 and MAPE: 0.1406\n",
      "Experiment 9 with SVR using kernel=sigmoid, C=10, gamma=scale has MAE: 1979.7076 and MAPE: 0.1383\n",
      "Experiment 10 with SVR using kernel=sigmoid, C=10, gamma=auto has MAE: 1986.6284 and MAPE: 0.1389\n",
      "Experiment 11 with SVR using kernel=sigmoid, C=15, gamma=scale has MAE: 1965.5518 and MAPE: 0.1371\n",
      "Experiment 12 with SVR using kernel=sigmoid, C=15, gamma=auto has MAE: 1975.9329 and MAPE: 0.1381\n",
      "Experiment 13 with SVR using kernel=rbf, C=0.1, gamma=scale has MAE: 2008.0169 and MAPE: 0.1406\n",
      "Experiment 14 with SVR using kernel=rbf, C=0.1, gamma=auto has MAE: 2008.016 and MAPE: 0.1406\n",
      "Experiment 15 with SVR using kernel=rbf, C=10, gamma=scale has MAE: 2007.7858 and MAPE: 0.1404\n",
      "Experiment 16 with SVR using kernel=rbf, C=10, gamma=auto has MAE: 2007.6982 and MAPE: 0.1404\n",
      "Experiment 17 with SVR using kernel=rbf, C=15, gamma=scale has MAE: 2007.6692 and MAPE: 0.1403\n",
      "Experiment 18 with SVR using kernel=rbf, C=15, gamma=auto has MAE: 2007.5377 and MAPE: 0.1403\n",
      "\n",
      "\n",
      "Experiment 1 with DecisionTreeRegressor using criterion=squared_error, max_depth=1, min_samples_split=2 has MAE: 2370.6798 and MAPE: 0.1853\n",
      "Experiment 2 with DecisionTreeRegressor using criterion=squared_error, max_depth=1, min_samples_split=5 has MAE: 2370.6798 and MAPE: 0.1853\n",
      "Experiment 3 with DecisionTreeRegressor using criterion=squared_error, max_depth=1, min_samples_split=10 has MAE: 2370.6798 and MAPE: 0.1853\n",
      "Experiment 4 with DecisionTreeRegressor using criterion=squared_error, max_depth=2, min_samples_split=2 has MAE: 2243.4348 and MAPE: 0.176\n",
      "Experiment 5 with DecisionTreeRegressor using criterion=squared_error, max_depth=2, min_samples_split=5 has MAE: 2243.4348 and MAPE: 0.1754\n",
      "Experiment 6 with DecisionTreeRegressor using criterion=squared_error, max_depth=2, min_samples_split=10 has MAE: 2243.4348 and MAPE: 0.1754\n",
      "Experiment 7 with DecisionTreeRegressor using criterion=squared_error, max_depth=6, min_samples_split=2 has MAE: 3927.1365 and MAPE: 0.3579\n",
      "Experiment 8 with DecisionTreeRegressor using criterion=squared_error, max_depth=6, min_samples_split=5 has MAE: 3038.8011 and MAPE: 0.2798\n",
      "Experiment 9 with DecisionTreeRegressor using criterion=squared_error, max_depth=6, min_samples_split=10 has MAE: 3038.8011 and MAPE: 0.2798\n",
      "Experiment 10 with DecisionTreeRegressor using criterion=friedman_mse, max_depth=1, min_samples_split=2 has MAE: 2370.6798 and MAPE: 0.1853\n",
      "Experiment 11 with DecisionTreeRegressor using criterion=friedman_mse, max_depth=1, min_samples_split=5 has MAE: 2370.6798 and MAPE: 0.1853\n",
      "Experiment 12 with DecisionTreeRegressor using criterion=friedman_mse, max_depth=1, min_samples_split=10 has MAE: 2370.6798 and MAPE: 0.1853\n",
      "Experiment 13 with DecisionTreeRegressor using criterion=friedman_mse, max_depth=2, min_samples_split=2 has MAE: 2987.9567 and MAPE: 0.2523\n",
      "Experiment 14 with DecisionTreeRegressor using criterion=friedman_mse, max_depth=2, min_samples_split=5 has MAE: 2243.4348 and MAPE: 0.1754\n",
      "Experiment 15 with DecisionTreeRegressor using criterion=friedman_mse, max_depth=2, min_samples_split=10 has MAE: 2243.4348 and MAPE: 0.1754\n",
      "Experiment 16 with DecisionTreeRegressor using criterion=friedman_mse, max_depth=6, min_samples_split=2 has MAE: 3161.6575 and MAPE: 0.2802\n",
      "Experiment 17 with DecisionTreeRegressor using criterion=friedman_mse, max_depth=6, min_samples_split=5 has MAE: 3038.8011 and MAPE: 0.2798\n",
      "Experiment 18 with DecisionTreeRegressor using criterion=friedman_mse, max_depth=6, min_samples_split=10 has MAE: 3038.8011 and MAPE: 0.2798\n",
      "\n",
      "\n",
      "Experiment 1 with XGBRegressor using n_estimators=2, max_depth=1, eta=0.1 has MAE: 9534.1075 and MAPE: 0.8153\n",
      "Experiment 2 with XGBRegressor using n_estimators=2, max_depth=1, eta=0.3 has MAE: 6114.3659 and MAPE: 0.5071\n",
      "Experiment 3 with XGBRegressor using n_estimators=2, max_depth=1, eta=0.5 has MAE: 3505.8355 and MAPE: 0.2717\n",
      "Experiment 4 with XGBRegressor using n_estimators=2, max_depth=2, eta=0.1 has MAE: 9534.1075 and MAPE: 0.8153\n",
      "Experiment 5 with XGBRegressor using n_estimators=2, max_depth=2, eta=0.3 has MAE: 6114.3659 and MAPE: 0.5071\n",
      "Experiment 6 with XGBRegressor using n_estimators=2, max_depth=2, eta=0.5 has MAE: 3647.5036 and MAPE: 0.2825\n",
      "Experiment 7 with XGBRegressor using n_estimators=2, max_depth=5, eta=0.1 has MAE: 9534.1075 and MAPE: 0.8153\n",
      "Experiment 8 with XGBRegressor using n_estimators=2, max_depth=5, eta=0.3 has MAE: 6114.3659 and MAPE: 0.5071\n",
      "Experiment 9 with XGBRegressor using n_estimators=2, max_depth=5, eta=0.5 has MAE: 3872.6193 and MAPE: 0.2998\n",
      "Experiment 10 with XGBRegressor using n_estimators=15, max_depth=1, eta=0.1 has MAE: 2994.0436 and MAPE: 0.223\n",
      "Experiment 11 with XGBRegressor using n_estimators=15, max_depth=1, eta=0.3 has MAE: 2385.9425 and MAPE: 0.1954\n",
      "Experiment 12 with XGBRegressor using n_estimators=15, max_depth=1, eta=0.5 has MAE: 2165.2627 and MAPE: 0.17\n",
      "Experiment 13 with XGBRegressor using n_estimators=15, max_depth=2, eta=0.1 has MAE: 3437.8061 and MAPE: 0.2648\n",
      "Experiment 14 with XGBRegressor using n_estimators=15, max_depth=2, eta=0.3 has MAE: 2527.4433 and MAPE: 0.2124\n",
      "Experiment 15 with XGBRegressor using n_estimators=15, max_depth=2, eta=0.5 has MAE: 2802.222 and MAPE: 0.2335\n",
      "Experiment 16 with XGBRegressor using n_estimators=15, max_depth=5, eta=0.1 has MAE: 3979.641 and MAPE: 0.3098\n",
      "Experiment 17 with XGBRegressor using n_estimators=15, max_depth=5, eta=0.3 has MAE: 3299.1841 and MAPE: 0.2705\n",
      "Experiment 18 with XGBRegressor using n_estimators=15, max_depth=5, eta=0.5 has MAE: 3152.6206 and MAPE: 0.2704\n",
      "Experiment 19 with XGBRegressor using n_estimators=25, max_depth=1, eta=0.1 has MAE: 2120.0544 and MAPE: 0.1534\n",
      "Experiment 20 with XGBRegressor using n_estimators=25, max_depth=1, eta=0.3 has MAE: 2322.9432 and MAPE: 0.1955\n",
      "Experiment 21 with XGBRegressor using n_estimators=25, max_depth=1, eta=0.5 has MAE: 2273.84 and MAPE: 0.1908\n",
      "Experiment 22 with XGBRegressor using n_estimators=25, max_depth=2, eta=0.1 has MAE: 2612.9551 and MAPE: 0.2036\n",
      "Experiment 23 with XGBRegressor using n_estimators=25, max_depth=2, eta=0.3 has MAE: 2729.8409 and MAPE: 0.2295\n",
      "Experiment 24 with XGBRegressor using n_estimators=25, max_depth=2, eta=0.5 has MAE: 2871.3279 and MAPE: 0.239\n",
      "Experiment 25 with XGBRegressor using n_estimators=25, max_depth=5, eta=0.1 has MAE: 3164.97 and MAPE: 0.2462\n",
      "Experiment 26 with XGBRegressor using n_estimators=25, max_depth=5, eta=0.3 has MAE: 3379.0889 and MAPE: 0.2812\n",
      "Experiment 27 with XGBRegressor using n_estimators=25, max_depth=5, eta=0.5 has MAE: 3173.5005 and MAPE: 0.2728\n",
      "\n",
      "Best Parameters for SVR: {'kernel': 'linear', 'C': 10, 'gamma': 'scale'}\n",
      "Best Parameters for DecisionTreeRegressor: {'criterion': 'squared_error', 'max_depth': 2, 'min_samples_split': 2}\n",
      "Best Parameters for XGBRegressor: {'n_estimators': 25, 'max_depth': 1, 'eta': 0.1}\n"
     ]
    }
   ],
   "source": [
    "scalled_x_train_d1 = scalled_x_train[0]\n",
    "scalled_x_val_d1 = scalled_x_val[0]\n",
    "y_train_d1 = y_train[0]\n",
    "y_val_d1 = y_val[0]\n",
    "print('Department 1, Validation Experiment:')\n",
    "best_params_d1 = parameter_tuning_validation(scalled_x_train_d1,y_train_d1,scalled_x_val_d1,y_val_d1)\n",
    "print ('\\nBest Parameters for SVR:',best_params_d1[0])\n",
    "print ('Best Parameters for DecisionTreeRegressor:',best_params_d1[1])\n",
    "print ('Best Parameters for XGBRegressor:',best_params_d1[2])"
   ]
  },
  {
   "cell_type": "markdown",
   "id": "8fd68965",
   "metadata": {},
   "source": [
    "### Dept 2"
   ]
  },
  {
   "cell_type": "code",
   "execution_count": 26,
   "id": "10644c32",
   "metadata": {},
   "outputs": [
    {
     "name": "stdout",
     "output_type": "stream",
     "text": [
      "Department 2, Validation Experiment:\n",
      "\n",
      "\n",
      "Experiment 1 with SVR using kernel=linear, C=0.1, gamma=scale has MAE: 759.5348 and MAPE: 0.0462\n",
      "Experiment 2 with SVR using kernel=linear, C=0.1, gamma=auto has MAE: 759.5348 and MAPE: 0.0462\n",
      "Experiment 3 with SVR using kernel=linear, C=10, gamma=scale has MAE: 1373.8037 and MAPE: 0.0863\n",
      "Experiment 4 with SVR using kernel=linear, C=10, gamma=auto has MAE: 1373.8037 and MAPE: 0.0863\n",
      "Experiment 5 with SVR using kernel=linear, C=15, gamma=scale has MAE: 1517.3116 and MAPE: 0.0951\n",
      "Experiment 6 with SVR using kernel=linear, C=15, gamma=auto has MAE: 1517.3116 and MAPE: 0.0951\n",
      "Experiment 7 with SVR using kernel=sigmoid, C=0.1, gamma=scale has MAE: 762.1011 and MAPE: 0.0463\n",
      "Experiment 8 with SVR using kernel=sigmoid, C=0.1, gamma=auto has MAE: 762.1175 and MAPE: 0.0463\n",
      "Experiment 9 with SVR using kernel=sigmoid, C=10, gamma=scale has MAE: 754.9063 and MAPE: 0.0461\n",
      "Experiment 10 with SVR using kernel=sigmoid, C=10, gamma=auto has MAE: 755.3563 and MAPE: 0.0461\n",
      "Experiment 11 with SVR using kernel=sigmoid, C=15, gamma=scale has MAE: 753.7577 and MAPE: 0.0462\n",
      "Experiment 12 with SVR using kernel=sigmoid, C=15, gamma=auto has MAE: 754.4327 and MAPE: 0.0462\n",
      "Experiment 13 with SVR using kernel=rbf, C=0.1, gamma=scale has MAE: 762.219 and MAPE: 0.0463\n",
      "Experiment 14 with SVR using kernel=rbf, C=0.1, gamma=auto has MAE: 762.2218 and MAPE: 0.0463\n",
      "Experiment 15 with SVR using kernel=rbf, C=10, gamma=scale has MAE: 763.8364 and MAPE: 0.0464\n",
      "Experiment 16 with SVR using kernel=rbf, C=10, gamma=auto has MAE: 764.1153 and MAPE: 0.0464\n",
      "Experiment 17 with SVR using kernel=rbf, C=15, gamma=scale has MAE: 764.6533 and MAPE: 0.0464\n",
      "Experiment 18 with SVR using kernel=rbf, C=15, gamma=auto has MAE: 765.0717 and MAPE: 0.0465\n",
      "\n",
      "\n",
      "Experiment 1 with DecisionTreeRegressor using criterion=squared_error, max_depth=1, min_samples_split=2 has MAE: 1088.9298 and MAPE: 0.0683\n",
      "Experiment 2 with DecisionTreeRegressor using criterion=squared_error, max_depth=1, min_samples_split=5 has MAE: 1088.9298 and MAPE: 0.0683\n",
      "Experiment 3 with DecisionTreeRegressor using criterion=squared_error, max_depth=1, min_samples_split=10 has MAE: 1088.9298 and MAPE: 0.0683\n",
      "Experiment 4 with DecisionTreeRegressor using criterion=squared_error, max_depth=2, min_samples_split=2 has MAE: 926.4934 and MAPE: 0.0582\n",
      "Experiment 5 with DecisionTreeRegressor using criterion=squared_error, max_depth=2, min_samples_split=5 has MAE: 926.4934 and MAPE: 0.0582\n",
      "Experiment 6 with DecisionTreeRegressor using criterion=squared_error, max_depth=2, min_samples_split=10 has MAE: 1061.9471 and MAPE: 0.0668\n",
      "Experiment 7 with DecisionTreeRegressor using criterion=squared_error, max_depth=6, min_samples_split=2 has MAE: 1376.9915 and MAPE: 0.0858\n",
      "Experiment 8 with DecisionTreeRegressor using criterion=squared_error, max_depth=6, min_samples_split=5 has MAE: 1941.5767 and MAPE: 0.1207\n",
      "Experiment 9 with DecisionTreeRegressor using criterion=squared_error, max_depth=6, min_samples_split=10 has MAE: 1129.8979 and MAPE: 0.0707\n",
      "Experiment 10 with DecisionTreeRegressor using criterion=friedman_mse, max_depth=1, min_samples_split=2 has MAE: 1088.9298 and MAPE: 0.0683\n",
      "Experiment 11 with DecisionTreeRegressor using criterion=friedman_mse, max_depth=1, min_samples_split=5 has MAE: 1088.9298 and MAPE: 0.0683\n",
      "Experiment 12 with DecisionTreeRegressor using criterion=friedman_mse, max_depth=1, min_samples_split=10 has MAE: 1088.9298 and MAPE: 0.0683\n",
      "Experiment 13 with DecisionTreeRegressor using criterion=friedman_mse, max_depth=2, min_samples_split=2 has MAE: 926.4934 and MAPE: 0.0582\n",
      "Experiment 14 with DecisionTreeRegressor using criterion=friedman_mse, max_depth=2, min_samples_split=5 has MAE: 926.4934 and MAPE: 0.0582\n",
      "Experiment 15 with DecisionTreeRegressor using criterion=friedman_mse, max_depth=2, min_samples_split=10 has MAE: 1061.9471 and MAPE: 0.0668\n",
      "Experiment 16 with DecisionTreeRegressor using criterion=friedman_mse, max_depth=6, min_samples_split=2 has MAE: 1409.3043 and MAPE: 0.0876\n",
      "Experiment 17 with DecisionTreeRegressor using criterion=friedman_mse, max_depth=6, min_samples_split=5 has MAE: 1446.9364 and MAPE: 0.09\n",
      "Experiment 18 with DecisionTreeRegressor using criterion=friedman_mse, max_depth=6, min_samples_split=10 has MAE: 1129.8979 and MAPE: 0.0707\n",
      "\n",
      "\n",
      "Experiment 1 with XGBRegressor using n_estimators=2, max_depth=1, eta=0.1 has MAE: 13556.3189 and MAPE: 0.8154\n",
      "Experiment 2 with XGBRegressor using n_estimators=2, max_depth=1, eta=0.3 has MAE: 8392.9458 and MAPE: 0.5034\n",
      "Experiment 3 with XGBRegressor using n_estimators=2, max_depth=1, eta=0.5 has MAE: 4486.9761 and MAPE: 0.2673\n",
      "Experiment 4 with XGBRegressor using n_estimators=2, max_depth=2, eta=0.1 has MAE: 13556.3189 and MAPE: 0.8154\n",
      "Experiment 5 with XGBRegressor using n_estimators=2, max_depth=2, eta=0.3 has MAE: 8392.9458 and MAPE: 0.5034\n",
      "Experiment 6 with XGBRegressor using n_estimators=2, max_depth=2, eta=0.5 has MAE: 4486.9761 and MAPE: 0.2673\n",
      "Experiment 7 with XGBRegressor using n_estimators=2, max_depth=5, eta=0.1 has MAE: 13556.3189 and MAPE: 0.8154\n",
      "Experiment 8 with XGBRegressor using n_estimators=2, max_depth=5, eta=0.3 has MAE: 8392.9458 and MAPE: 0.5034\n",
      "Experiment 9 with XGBRegressor using n_estimators=2, max_depth=5, eta=0.5 has MAE: 4486.9761 and MAPE: 0.2673\n",
      "Experiment 10 with XGBRegressor using n_estimators=15, max_depth=1, eta=0.1 has MAE: 3686.4588 and MAPE: 0.2189\n",
      "Experiment 11 with XGBRegressor using n_estimators=15, max_depth=1, eta=0.3 has MAE: 750.2211 and MAPE: 0.046\n",
      "Experiment 12 with XGBRegressor using n_estimators=15, max_depth=1, eta=0.5 has MAE: 757.7118 and MAPE: 0.0474\n",
      "Experiment 13 with XGBRegressor using n_estimators=15, max_depth=2, eta=0.1 has MAE: 3686.4588 and MAPE: 0.2189\n",
      "Experiment 14 with XGBRegressor using n_estimators=15, max_depth=2, eta=0.3 has MAE: 813.6835 and MAPE: 0.0495\n",
      "Experiment 15 with XGBRegressor using n_estimators=15, max_depth=2, eta=0.5 has MAE: 844.9243 and MAPE: 0.0512\n",
      "Experiment 16 with XGBRegressor using n_estimators=15, max_depth=5, eta=0.1 has MAE: 3686.4588 and MAPE: 0.2189\n",
      "Experiment 17 with XGBRegressor using n_estimators=15, max_depth=5, eta=0.3 has MAE: 999.1431 and MAPE: 0.0601\n",
      "Experiment 18 with XGBRegressor using n_estimators=15, max_depth=5, eta=0.5 has MAE: 912.2489 and MAPE: 0.0558\n",
      "Experiment 19 with XGBRegressor using n_estimators=25, max_depth=1, eta=0.1 has MAE: 1500.6122 and MAPE: 0.0886\n",
      "Experiment 20 with XGBRegressor using n_estimators=25, max_depth=1, eta=0.3 has MAE: 737.3455 and MAPE: 0.0457\n",
      "Experiment 21 with XGBRegressor using n_estimators=25, max_depth=1, eta=0.5 has MAE: 822.8291 and MAPE: 0.0519\n",
      "Experiment 22 with XGBRegressor using n_estimators=25, max_depth=2, eta=0.1 has MAE: 1626.6843 and MAPE: 0.0963\n",
      "Experiment 23 with XGBRegressor using n_estimators=25, max_depth=2, eta=0.3 has MAE: 802.2607 and MAPE: 0.0491\n",
      "Experiment 24 with XGBRegressor using n_estimators=25, max_depth=2, eta=0.5 has MAE: 857.1236 and MAPE: 0.0526\n",
      "Experiment 25 with XGBRegressor using n_estimators=25, max_depth=5, eta=0.1 has MAE: 1711.1538 and MAPE: 0.1014\n",
      "Experiment 26 with XGBRegressor using n_estimators=25, max_depth=5, eta=0.3 has MAE: 1023.1383 and MAPE: 0.0621\n",
      "Experiment 27 with XGBRegressor using n_estimators=25, max_depth=5, eta=0.5 has MAE: 910.1676 and MAPE: 0.0558\n",
      "\n",
      "Best Parameters for SVR: {'kernel': 'sigmoid', 'C': 15, 'gamma': 'scale'}\n",
      "Best Parameters for DecisionTreeRegressor: {'criterion': 'squared_error', 'max_depth': 2, 'min_samples_split': 2}\n",
      "Best Parameters for XGBRegressor: {'n_estimators': 25, 'max_depth': 1, 'eta': 0.3}\n"
     ]
    }
   ],
   "source": [
    "scalled_x_train_d2 = scalled_x_train[1]\n",
    "scalled_x_val_d2 = scalled_x_val[1]\n",
    "y_train_d2 = y_train[1]\n",
    "y_val_d2 = y_val[1]\n",
    "print('Department 2, Validation Experiment:')\n",
    "best_params_d2 = parameter_tuning_validation(scalled_x_train_d2,y_train_d2,scalled_x_val_d2,y_val_d2)\n",
    "print ('\\nBest Parameters for SVR:',best_params_d2[0])\n",
    "print ('Best Parameters for DecisionTreeRegressor:',best_params_d2[1])\n",
    "print ('Best Parameters for XGBRegressor:',best_params_d2[2])"
   ]
  },
  {
   "cell_type": "markdown",
   "id": "c208c567",
   "metadata": {},
   "source": [
    "### Dept 5"
   ]
  },
  {
   "cell_type": "code",
   "execution_count": 27,
   "id": "51e9d257",
   "metadata": {},
   "outputs": [
    {
     "name": "stdout",
     "output_type": "stream",
     "text": [
      "Department 2, Validation Experiment:\n",
      "\n",
      "\n",
      "Experiment 1 with SVR using kernel=linear, C=0.1, gamma=scale has MAE: 280.2205 and MAPE: 0.2529\n",
      "Experiment 2 with SVR using kernel=linear, C=0.1, gamma=auto has MAE: 280.2205 and MAPE: 0.2529\n",
      "Experiment 3 with SVR using kernel=linear, C=10, gamma=scale has MAE: 348.228 and MAPE: 0.3635\n",
      "Experiment 4 with SVR using kernel=linear, C=10, gamma=auto has MAE: 348.228 and MAPE: 0.3635\n",
      "Experiment 5 with SVR using kernel=linear, C=15, gamma=scale has MAE: 351.6478 and MAPE: 0.359\n",
      "Experiment 6 with SVR using kernel=linear, C=15, gamma=auto has MAE: 351.6478 and MAPE: 0.359\n",
      "Experiment 7 with SVR using kernel=sigmoid, C=0.1, gamma=scale has MAE: 284.5744 and MAPE: 0.2574\n",
      "Experiment 8 with SVR using kernel=sigmoid, C=0.1, gamma=auto has MAE: 284.6117 and MAPE: 0.2575\n",
      "Experiment 9 with SVR using kernel=sigmoid, C=10, gamma=scale has MAE: 273.4182 and MAPE: 0.2442\n",
      "Experiment 10 with SVR using kernel=sigmoid, C=10, gamma=auto has MAE: 274.534 and MAPE: 0.2477\n",
      "Experiment 11 with SVR using kernel=sigmoid, C=15, gamma=scale has MAE: 270.8012 and MAPE: 0.2466\n",
      "Experiment 12 with SVR using kernel=sigmoid, C=15, gamma=auto has MAE: 271.8738 and MAPE: 0.2433\n",
      "Experiment 13 with SVR using kernel=rbf, C=0.1, gamma=scale has MAE: 284.772 and MAPE: 0.2576\n",
      "Experiment 14 with SVR using kernel=rbf, C=0.1, gamma=auto has MAE: 284.7706 and MAPE: 0.2576\n",
      "Experiment 15 with SVR using kernel=rbf, C=10, gamma=scale has MAE: 284.4359 and MAPE: 0.2516\n",
      "Experiment 16 with SVR using kernel=rbf, C=10, gamma=auto has MAE: 284.344 and MAPE: 0.251\n",
      "Experiment 17 with SVR using kernel=rbf, C=15, gamma=scale has MAE: 284.3668 and MAPE: 0.25\n",
      "Experiment 18 with SVR using kernel=rbf, C=15, gamma=auto has MAE: 284.3473 and MAPE: 0.2492\n",
      "\n",
      "\n",
      "Experiment 1 with DecisionTreeRegressor using criterion=squared_error, max_depth=1, min_samples_split=2 has MAE: 288.4664 and MAPE: 0.2959\n",
      "Experiment 2 with DecisionTreeRegressor using criterion=squared_error, max_depth=1, min_samples_split=5 has MAE: 288.4664 and MAPE: 0.2959\n",
      "Experiment 3 with DecisionTreeRegressor using criterion=squared_error, max_depth=1, min_samples_split=10 has MAE: 288.4664 and MAPE: 0.2959\n",
      "Experiment 4 with DecisionTreeRegressor using criterion=squared_error, max_depth=2, min_samples_split=2 has MAE: 375.0851 and MAPE: 0.4103\n",
      "Experiment 5 with DecisionTreeRegressor using criterion=squared_error, max_depth=2, min_samples_split=5 has MAE: 376.3437 and MAPE: 0.4171\n",
      "Experiment 6 with DecisionTreeRegressor using criterion=squared_error, max_depth=2, min_samples_split=10 has MAE: 376.3437 and MAPE: 0.4171\n",
      "Experiment 7 with DecisionTreeRegressor using criterion=squared_error, max_depth=6, min_samples_split=2 has MAE: 561.1052 and MAPE: 0.6502\n",
      "Experiment 8 with DecisionTreeRegressor using criterion=squared_error, max_depth=6, min_samples_split=5 has MAE: 561.4731 and MAPE: 0.6566\n",
      "Experiment 9 with DecisionTreeRegressor using criterion=squared_error, max_depth=6, min_samples_split=10 has MAE: 554.2871 and MAPE: 0.6505\n",
      "Experiment 10 with DecisionTreeRegressor using criterion=friedman_mse, max_depth=1, min_samples_split=2 has MAE: 288.4664 and MAPE: 0.2959\n",
      "Experiment 11 with DecisionTreeRegressor using criterion=friedman_mse, max_depth=1, min_samples_split=5 has MAE: 288.4664 and MAPE: 0.2959\n",
      "Experiment 12 with DecisionTreeRegressor using criterion=friedman_mse, max_depth=1, min_samples_split=10 has MAE: 288.4664 and MAPE: 0.2959\n",
      "Experiment 13 with DecisionTreeRegressor using criterion=friedman_mse, max_depth=2, min_samples_split=2 has MAE: 375.0851 and MAPE: 0.4103\n",
      "Experiment 14 with DecisionTreeRegressor using criterion=friedman_mse, max_depth=2, min_samples_split=5 has MAE: 376.3437 and MAPE: 0.4171\n",
      "Experiment 15 with DecisionTreeRegressor using criterion=friedman_mse, max_depth=2, min_samples_split=10 has MAE: 376.3437 and MAPE: 0.4171\n",
      "Experiment 16 with DecisionTreeRegressor using criterion=friedman_mse, max_depth=6, min_samples_split=2 has MAE: 395.7983 and MAPE: 0.4382\n",
      "Experiment 17 with DecisionTreeRegressor using criterion=friedman_mse, max_depth=6, min_samples_split=5 has MAE: 396.1662 and MAPE: 0.4446\n",
      "Experiment 18 with DecisionTreeRegressor using criterion=friedman_mse, max_depth=6, min_samples_split=10 has MAE: 361.8336 and MAPE: 0.4025\n",
      "\n",
      "\n",
      "Experiment 1 with XGBRegressor using n_estimators=2, max_depth=1, eta=0.1 has MAE: 813.9702 and MAPE: 0.7393\n",
      "Experiment 2 with XGBRegressor using n_estimators=2, max_depth=1, eta=0.3 has MAE: 468.9832 and MAPE: 0.3803\n",
      "Experiment 3 with XGBRegressor using n_estimators=2, max_depth=1, eta=0.5 has MAE: 288.2601 and MAPE: 0.2369\n",
      "Experiment 4 with XGBRegressor using n_estimators=2, max_depth=2, eta=0.1 has MAE: 846.0534 and MAPE: 0.7732\n",
      "Experiment 5 with XGBRegressor using n_estimators=2, max_depth=2, eta=0.3 has MAE: 486.7614 and MAPE: 0.3983\n",
      "Experiment 6 with XGBRegressor using n_estimators=2, max_depth=2, eta=0.5 has MAE: 336.7161 and MAPE: 0.2597\n",
      "Experiment 7 with XGBRegressor using n_estimators=2, max_depth=5, eta=0.1 has MAE: 846.0534 and MAPE: 0.7732\n",
      "Experiment 8 with XGBRegressor using n_estimators=2, max_depth=5, eta=0.3 has MAE: 577.9044 and MAPE: 0.4906\n",
      "Experiment 9 with XGBRegressor using n_estimators=2, max_depth=5, eta=0.5 has MAE: 350.7162 and MAPE: 0.2719\n",
      "Experiment 10 with XGBRegressor using n_estimators=15, max_depth=1, eta=0.1 has MAE: 274.0251 and MAPE: 0.2347\n",
      "Experiment 11 with XGBRegressor using n_estimators=15, max_depth=1, eta=0.3 has MAE: 329.0474 and MAPE: 0.3531\n",
      "Experiment 12 with XGBRegressor using n_estimators=15, max_depth=1, eta=0.5 has MAE: 346.8822 and MAPE: 0.3739\n",
      "Experiment 13 with XGBRegressor using n_estimators=15, max_depth=2, eta=0.1 has MAE: 330.3064 and MAPE: 0.2586\n",
      "Experiment 14 with XGBRegressor using n_estimators=15, max_depth=2, eta=0.3 has MAE: 280.4896 and MAPE: 0.2538\n",
      "Experiment 15 with XGBRegressor using n_estimators=15, max_depth=2, eta=0.5 has MAE: 314.8506 and MAPE: 0.3054\n",
      "Experiment 16 with XGBRegressor using n_estimators=15, max_depth=5, eta=0.1 has MAE: 354.5415 and MAPE: 0.281\n",
      "Experiment 17 with XGBRegressor using n_estimators=15, max_depth=5, eta=0.3 has MAE: 308.9235 and MAPE: 0.2852\n",
      "Experiment 18 with XGBRegressor using n_estimators=15, max_depth=5, eta=0.5 has MAE: 290.7311 and MAPE: 0.2721\n",
      "Experiment 19 with XGBRegressor using n_estimators=25, max_depth=1, eta=0.1 has MAE: 283.9343 and MAPE: 0.2841\n",
      "Experiment 20 with XGBRegressor using n_estimators=25, max_depth=1, eta=0.3 has MAE: 333.5422 and MAPE: 0.3597\n",
      "Experiment 21 with XGBRegressor using n_estimators=25, max_depth=1, eta=0.5 has MAE: 326.6478 and MAPE: 0.3465\n",
      "Experiment 22 with XGBRegressor using n_estimators=25, max_depth=2, eta=0.1 has MAE: 292.7869 and MAPE: 0.2474\n",
      "Experiment 23 with XGBRegressor using n_estimators=25, max_depth=2, eta=0.3 has MAE: 287.0386 and MAPE: 0.2598\n",
      "Experiment 24 with XGBRegressor using n_estimators=25, max_depth=2, eta=0.5 has MAE: 316.6288 and MAPE: 0.3094\n",
      "Experiment 25 with XGBRegressor using n_estimators=25, max_depth=5, eta=0.1 has MAE: 312.3876 and MAPE: 0.264\n",
      "Experiment 26 with XGBRegressor using n_estimators=25, max_depth=5, eta=0.3 has MAE: 315.4117 and MAPE: 0.301\n",
      "Experiment 27 with XGBRegressor using n_estimators=25, max_depth=5, eta=0.5 has MAE: 289.9488 and MAPE: 0.2716\n",
      "\n",
      "Best Parameters for SVR: {'kernel': 'sigmoid', 'C': 15, 'gamma': 'scale'}\n",
      "Best Parameters for DecisionTreeRegressor: {'criterion': 'squared_error', 'max_depth': 1, 'min_samples_split': 2}\n",
      "Best Parameters for XGBRegressor: {'n_estimators': 15, 'max_depth': 1, 'eta': 0.1}\n"
     ]
    }
   ],
   "source": [
    "scalled_x_train_d5 = scalled_x_train[2]\n",
    "scalled_x_val_d5 = scalled_x_val[2]\n",
    "y_train_d5 = y_train[2]\n",
    "y_val_d5 = y_val[2]\n",
    "print('Department 2, Validation Experiment:')\n",
    "best_params_d5 = parameter_tuning_validation(scalled_x_train_d5,y_train_d5,scalled_x_val_d5,y_val_d5)\n",
    "print ('\\nBest Parameters for SVR:',best_params_d5[0])\n",
    "print ('Best Parameters for DecisionTreeRegressor:',best_params_d5[1])\n",
    "print ('Best Parameters for XGBRegressor:',best_params_d5[2])"
   ]
  },
  {
   "cell_type": "markdown",
   "id": "10a199dc",
   "metadata": {},
   "source": [
    "## Evalaution on Test Set"
   ]
  },
  {
   "cell_type": "markdown",
   "id": "a81f008c",
   "metadata": {},
   "source": [
    "### Train-Test Split"
   ]
  },
  {
   "cell_type": "code",
   "execution_count": 28,
   "id": "e5e5a9e9",
   "metadata": {},
   "outputs": [],
   "source": [
    "train_list,test_list = train_test_split(df_list)\n",
    "x_train,y_train,x_test,y_test = splits_X_y(train_list,test_list)\n",
    "scalled_x_train,scalled_x_test,df_x_train,df_x_test = scaller(x_train,x_test)\n",
    "final_df = save_final_df(df_x_train,y_train,df_x_test,y_test)"
   ]
  },
  {
   "cell_type": "markdown",
   "id": "7062cbee",
   "metadata": {},
   "source": [
    "### Dept 1"
   ]
  },
  {
   "cell_type": "code",
   "execution_count": 29,
   "id": "a2e8be98",
   "metadata": {},
   "outputs": [
    {
     "name": "stdout",
     "output_type": "stream",
     "text": [
      "Department 1, Evaluation on Test set:\n",
      "\n",
      "SVM model has MAE: 2896.4553 and MAPE: 0.2741\n",
      "Decision Tree model has MAE: 3770.615 and MAPE: 0.3783\n",
      "XGBoost model has MAE: 2693.0168 and MAPE: 0.2518\n"
     ]
    },
    {
     "data": {
      "image/png": "[encoded data removed]",
      "text/plain": [
       "<Figure size 1000x600 with 1 Axes>"
      ]
     },
     "metadata": {},
     "output_type": "display_data"
    }
   ],
   "source": [
    "scalled_x_train_d1 = scalled_x_train[0]\n",
    "scalled_x_test_d1 = scalled_x_test[0]\n",
    "y_train_d1 = y_train[0]\n",
    "y_test_d1 = y_test[0]\n",
    "print('Department 1, Evaluation on Test set:\\n')\n",
    "results_d1 = evaluate_models(scalled_x_train_d1,y_train_d1,scalled_x_test_d1,y_test_d1,best_params_d1)\n",
    "plot_results(results_d1,'1',promo)"
   ]
  },
  {
   "cell_type": "markdown",
   "id": "77c210d1",
   "metadata": {},
   "source": [
    "### Dept 2"
   ]
  },
  {
   "cell_type": "code",
   "execution_count": 30,
   "id": "91281ef3",
   "metadata": {},
   "outputs": [
    {
     "name": "stdout",
     "output_type": "stream",
     "text": [
      "Department 2, Evaluation on Test set:\n",
      "\n",
      "SVM model has MAE: 723.9362 and MAPE: 0.0453\n",
      "Decision Tree model has MAE: 719.3781 and MAPE: 0.0455\n",
      "XGBoost model has MAE: 836.6152 and MAPE: 0.0526\n"
     ]
    },
    {
     "data": {
      "image/png": "[encoded data removed]",
      "text/plain": [
       "<Figure size 1000x600 with 1 Axes>"
      ]
     },
     "metadata": {},
     "output_type": "display_data"
    }
   ],
   "source": [
    "scalled_x_train_d2 = scalled_x_train[1]\n",
    "scalled_x_test_d2 = scalled_x_test[1]\n",
    "y_train_d2 = y_train[1]\n",
    "y_test_d2 = y_test[1]\n",
    "print('Department 2, Evaluation on Test set:\\n')\n",
    "results_d2 = evaluate_models(scalled_x_train_d2,y_train_d2,scalled_x_test_d2,y_test_d2,best_params_d2)\n",
    "plot_results(results_d2,'2',promo)"
   ]
  },
  {
   "cell_type": "markdown",
   "id": "523a785e",
   "metadata": {},
   "source": [
    "### Dept 5"
   ]
  },
  {
   "cell_type": "code",
   "execution_count": 31,
   "id": "2f8a3239",
   "metadata": {},
   "outputs": [
    {
     "name": "stdout",
     "output_type": "stream",
     "text": [
      "Department 5, Evaluation on Test set:\n",
      "\n",
      "SVM model has MAE: 301.1344 and MAPE: 0.2319\n",
      "Decision Tree model has MAE: 357.503 and MAPE: 0.2832\n",
      "XGBoost model has MAE: 422.1815 and MAPE: 0.3098\n"
     ]
    },
    {
     "data": {
      "image/png": "[encoded data removed]",
      "text/plain": [
       "<Figure size 1000x600 with 1 Axes>"
      ]
     },
     "metadata": {},
     "output_type": "display_data"
    }
   ],
   "source": [
    "scalled_x_train_d5 = scalled_x_train[2]\n",
    "scalled_x_test_d5 = scalled_x_test[2]\n",
    "y_train_d5 = y_train[2]\n",
    "y_test_d5 = y_test[2]\n",
    "print('Department 5, Evaluation on Test set:\\n')\n",
    "results_d5 = evaluate_models(scalled_x_train_d5,y_train_d5,scalled_x_test_d5,y_test_d5,best_params_d5)\n",
    "plot_results(results_d5,'5',promo)"
   ]
  },
  {
   "cell_type": "markdown",
   "id": "48343cde",
   "metadata": {},
   "source": [
    "## Summarize Promo Influence"
   ]
  },
  {
   "cell_type": "markdown",
   "id": "cff37baf",
   "metadata": {},
   "source": [
    "### Dept 1"
   ]
  },
  {
   "cell_type": "code",
   "execution_count": 32,
   "id": "66200b38",
   "metadata": {},
   "outputs": [
    {
     "name": "stdout",
     "output_type": "stream",
     "text": [
      "Results without using Promo:\n",
      "SVM: {'MAE': 2723.579, 'MAPE': 0.2588}\n",
      "Decision Tree: {'MAE': 3770.615, 'MAPE': 0.3783}\n",
      "XGBoost: {'MAE': 2532.1519, 'MAPE': 0.2336}\n",
      "\n",
      "Results using Promo:\n",
      "SVM: {'MAE': 2896.4553, 'MAPE': 0.2741}\n",
      "Decision Tree: {'MAE': 3770.615, 'MAPE': 0.3783}\n",
      "XGBoost: {'MAE': 2693.0168, 'MAPE': 0.2518}\n"
     ]
    }
   ],
   "source": [
    "print ('Results without using Promo:')\n",
    "print ('SVM:',results_d1_no_promo['SVM'])\n",
    "print ('Decision Tree:',results_d1_no_promo['Decision Tree'])\n",
    "print ('XGBoost:',results_d1_no_promo['XGBoost'])\n",
    "print ('\\nResults using Promo:')\n",
    "print ('SVM:',results_d1['SVM'])\n",
    "print ('Decision Tree:',results_d1['Decision Tree'])\n",
    "print ('XGBoost:',results_d1['XGBoost'])"
   ]
  },
  {
   "cell_type": "markdown",
   "id": "1303c15b",
   "metadata": {},
   "source": [
    "### Dept 2"
   ]
  },
  {
   "cell_type": "code",
   "execution_count": 33,
   "id": "d5eff906",
   "metadata": {},
   "outputs": [
    {
     "name": "stdout",
     "output_type": "stream",
     "text": [
      "Results without using Promo:\n",
      "SVM: {'MAE': 723.464, 'MAPE': 0.0453}\n",
      "Decision Tree: {'MAE': 719.3781, 'MAPE': 0.0455}\n",
      "XGBoost: {'MAE': 820.4272, 'MAPE': 0.0517}\n",
      "\n",
      "Results using Promo:\n",
      "SVM: {'MAE': 723.9362, 'MAPE': 0.0453}\n",
      "Decision Tree: {'MAE': 719.3781, 'MAPE': 0.0455}\n",
      "XGBoost: {'MAE': 836.6152, 'MAPE': 0.0526}\n"
     ]
    }
   ],
   "source": [
    "print ('Results without using Promo:')\n",
    "print ('SVM:',results_d2_no_promo['SVM'])\n",
    "print ('Decision Tree:',results_d2_no_promo['Decision Tree'])\n",
    "print ('XGBoost:',results_d2_no_promo['XGBoost'])\n",
    "print ('\\nResults using Promo:')\n",
    "print ('SVM:',results_d2['SVM'])\n",
    "print ('Decision Tree:',results_d2['Decision Tree'])\n",
    "print ('XGBoost:',results_d2['XGBoost'])"
   ]
  },
  {
   "cell_type": "markdown",
   "id": "1d845733",
   "metadata": {},
   "source": [
    "### Dept 5"
   ]
  },
  {
   "cell_type": "code",
   "execution_count": 34,
   "id": "54aa8e67",
   "metadata": {},
   "outputs": [
    {
     "name": "stdout",
     "output_type": "stream",
     "text": [
      "Results without using Promo:\n",
      "SVM: {'MAE': 303.5123, 'MAPE': 0.2321}\n",
      "Decision Tree: {'MAE': 357.503, 'MAPE': 0.2832}\n",
      "XGBoost: {'MAE': 422.1815, 'MAPE': 0.3098}\n",
      "\n",
      "Results using Promo:\n",
      "SVM: {'MAE': 301.1344, 'MAPE': 0.2319}\n",
      "Decision Tree: {'MAE': 357.503, 'MAPE': 0.2832}\n",
      "XGBoost: {'MAE': 422.1815, 'MAPE': 0.3098}\n"
     ]
    }
   ],
   "source": [
    "print ('Results without using Promo:')\n",
    "print ('SVM:',results_d5_no_promo['SVM'])\n",
    "print ('Decision Tree:',results_d5_no_promo['Decision Tree'])\n",
    "print ('XGBoost:',results_d5_no_promo['XGBoost'])\n",
    "print ('\\nResults using Promo:')\n",
    "print ('SVM:',results_d5['SVM'])\n",
    "print ('Decision Tree:',results_d5['Decision Tree'])\n",
    "print ('XGBoost:',results_d5['XGBoost'])"
   ]
  }
 ],
 "metadata": {
  "kernelspec": {
   "display_name": "full_ml",
   "language": "python",
   "name": "full_ml"
  },
  "language_info": {
   "codemirror_mode": {
    "name": "ipython",
    "version": 3
   },
   "file_extension": ".py",
   "mimetype": "text/x-python",
   "name": "python",
   "nbconvert_exporter": "python",
   "pygments_lexer": "ipython3",
   "version": "3.8.13"
  }
 },
 "nbformat": 4,
 "nbformat_minor": 5
}
